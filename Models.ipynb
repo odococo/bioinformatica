{
 "cells": [
  {
   "cell_type": "code",
   "execution_count": 114,
   "metadata": {},
   "outputs": [],
   "source": [
    "from typing import Dict, Tuple, List\n",
    "\n",
    "class Model:\n",
    "    def __init__(self, name: str, model, **kwargs):\n",
    "        self.name = name\n",
    "        self.model = model\n",
    "        self.kwargs = kwargs\n",
    "        \n",
    "    def __str__(self) -> str:\n",
    "        return self.name\n",
    "    \n",
    "    def __repr__(self) -> str:\n",
    "        return self.name\n",
    "    \n",
    "    def get_model(self) -> Tuple:\n",
    "        return (self.model, self.kwargs)"
   ]
  },
  {
   "cell_type": "code",
   "execution_count": 52,
   "metadata": {},
   "outputs": [],
   "source": [
    "from sklearn.tree import DecisionTreeClassifier\n",
    "\n",
    "def get_decision_tree(name: str = 'DecisionTree', criterion: str = 'gini', max_depth: int = 50, \n",
    "                      random_state: int = 42, class_weight: str = 'balanced', **kwargs) -> Model:\n",
    "    model = DecisionTreeClassifier(\n",
    "        criterion=criterion,\n",
    "        max_depth=max_depth,\n",
    "        random_state=random_state,\n",
    "        class_weight=class_weight\n",
    "    )\n",
    "    return Model(name, model, **kwargs)\n",
    "\n",
    "Model.DecisionTree = get_decision_tree"
   ]
  },
  {
   "cell_type": "code",
   "execution_count": 53,
   "metadata": {},
   "outputs": [
    {
     "data": {
      "text/plain": [
       "DecisionTree"
      ]
     },
     "execution_count": 53,
     "metadata": {},
     "output_type": "execute_result"
    }
   ],
   "source": [
    "Model.DecisionTree()"
   ]
  },
  {
   "cell_type": "code",
   "execution_count": 54,
   "metadata": {},
   "outputs": [],
   "source": [
    "from sklearn.ensemble import RandomForestClassifier\n",
    "from multiprocessing import cpu_count\n",
    "\n",
    "\n",
    "def get_random_forest(name: str = 'RandomForest', n_estimators: int = 500, criterion: str = 'gini', \n",
    "                      max_depth: int = 30, random_state: int = 42, \n",
    "                      class_weight: str = 'balanced', n_jobs: int = cpu_count, **kwargs):\n",
    "    model = RandomForestClassifier(\n",
    "        n_estimators=n_estimators,\n",
    "        criterion=criterion,\n",
    "        max_depth=max_depth,\n",
    "        random_state=random_state,\n",
    "        class_weight=class_weight,\n",
    "        n_jobs=n_jobs\n",
    "    )\n",
    "    return Model(name, model, **kwargs)\n",
    "\n",
    "Model.RandomForest = get_random_forest"
   ]
  },
  {
   "cell_type": "code",
   "execution_count": 55,
   "metadata": {},
   "outputs": [
    {
     "data": {
      "text/plain": [
       "RandomForest"
      ]
     },
     "execution_count": 55,
     "metadata": {},
     "output_type": "execute_result"
    }
   ],
   "source": [
    "Model.RandomForest()"
   ]
  },
  {
   "cell_type": "code",
   "execution_count": 105,
   "metadata": {},
   "outputs": [],
   "source": [
    "from tensorflow.keras.layers import Input, Flatten, Dense, BatchNormalization, Activation, Dropout\n",
    "from tensorflow.keras.callbacks import EarlyStopping\n",
    "from tensorflow.keras.metrics import AUC"
   ]
  },
  {
   "cell_type": "code",
   "execution_count": 126,
   "metadata": {},
   "outputs": [],
   "source": [
    "from tensorflow.keras.models import Sequential\n",
    "\n",
    "def get_sequential(default_name: str = 'Sequential'):\n",
    "    def get_layers(*layers):\n",
    "        def get_model(input_shape: Tuple[int], name: str = None, optimizer: str = 'nadam', \n",
    "                      loss: str = 'binary_crossentropy', metrics: List = None,\n",
    "                      epochs: int = 1000, batch_size: int = 1024, \n",
    "                      validation_split: float = 0.1, shuffle: bool = True, verbose: bool = True, \n",
    "                      callbacks: List = None, **kwargs):\n",
    "            name = name or default_name\n",
    "            input_layer = Input(shape=input_shape)\n",
    "            output_layer = Dense(1, activation=\"sigmoid\")\n",
    "            model = Sequential((input_layer,) + (output_layer,), name)\n",
    "            \n",
    "            matrics = metrics or [\n",
    "                \"accuracy\",\n",
    "                AUC(curve=\"ROC\", name=\"auroc\"),\n",
    "                AUC(curve=\"PR\", name=\"auprc\")\n",
    "            ]\n",
    "            model.compile(\n",
    "                optimizer=optimizer,\n",
    "                loss=loss,\n",
    "                metrics=metrics\n",
    "            )\n",
    "            \n",
    "            kwargs.update({\n",
    "                'epochs': epochs,\n",
    "                'batch_size': batch_size,\n",
    "                'validation_split': validation_split,\n",
    "                'shuffle': shuffle,\n",
    "                'verbose': verbose,\n",
    "                'callbacks': callbacks\n",
    "            })\n",
    "            print(model.summary())\n",
    "            return Model(name, model, **kwargs)\n",
    "        return get_model\n",
    "    return get_layers\n",
    "\n",
    "Model.Sequential = get_sequential()"
   ]
  },
  {
   "cell_type": "code",
   "execution_count": 127,
   "metadata": {},
   "outputs": [
    {
     "name": "stdout",
     "output_type": "stream",
     "text": [
      "Model: \"Sequential\"\n",
      "_________________________________________________________________\n",
      "Layer (type)                 Output Shape              Param #   \n",
      "=================================================================\n",
      "dense_30 (Dense)             (None, 104, 1)            21        \n",
      "=================================================================\n",
      "Total params: 21\n",
      "Trainable params: 21\n",
      "Non-trainable params: 0\n",
      "_________________________________________________________________\n",
      "None\n"
     ]
    },
    {
     "data": {
      "text/plain": [
       "Sequential"
      ]
     },
     "execution_count": 127,
     "metadata": {},
     "output_type": "execute_result"
    }
   ],
   "source": [
    "Model.Sequential()((104,20))"
   ]
  },
  {
   "cell_type": "code",
   "execution_count": 128,
   "metadata": {},
   "outputs": [],
   "source": [
    "Model.Perceptron = get_sequential('Perceptron')()"
   ]
  },
  {
   "cell_type": "code",
   "execution_count": 129,
   "metadata": {},
   "outputs": [
    {
     "name": "stdout",
     "output_type": "stream",
     "text": [
      "Model: \"Perceptron\"\n",
      "_________________________________________________________________\n",
      "Layer (type)                 Output Shape              Param #   \n",
      "=================================================================\n",
      "dense_31 (Dense)             (None, 1)                 105       \n",
      "=================================================================\n",
      "Total params: 105\n",
      "Trainable params: 105\n",
      "Non-trainable params: 0\n",
      "_________________________________________________________________\n",
      "None\n"
     ]
    },
    {
     "data": {
      "text/plain": [
       "Perceptron"
      ]
     },
     "execution_count": 129,
     "metadata": {},
     "output_type": "execute_result"
    }
   ],
   "source": [
    "Model.Perceptron((104,))"
   ]
  },
  {
   "cell_type": "code",
   "execution_count": 130,
   "metadata": {},
   "outputs": [],
   "source": [
    "Model.MLP = get_sequential('MLP')"
   ]
  },
  {
   "cell_type": "code",
   "execution_count": 131,
   "metadata": {},
   "outputs": [
    {
     "name": "stdout",
     "output_type": "stream",
     "text": [
      "Model: \"MLP\"\n",
      "_________________________________________________________________\n",
      "Layer (type)                 Output Shape              Param #   \n",
      "=================================================================\n",
      "dense_35 (Dense)             (None, 1)                 105       \n",
      "=================================================================\n",
      "Total params: 105\n",
      "Trainable params: 105\n",
      "Non-trainable params: 0\n",
      "_________________________________________________________________\n",
      "None\n"
     ]
    },
    {
     "data": {
      "text/plain": [
       "MLP"
      ]
     },
     "execution_count": 131,
     "metadata": {},
     "output_type": "execute_result"
    }
   ],
   "source": [
    "from keras_tqdm import TQDMNotebookCallback as ktqdm\n",
    "\n",
    "\n",
    "Model.MLP(\n",
    "    Dense(128, activation=\"relu\"),\n",
    "    Dense(64, activation=\"relu\"),\n",
    "    Dense(32, activation=\"relu\")\n",
    ")((104,), callbacks=[\n",
    "        EarlyStopping(monitor=\"val_loss\", mode=\"min\", patience=50),\n",
    "        ktqdm(leave_outer=False)\n",
    "    ])"
   ]
  },
  {
   "cell_type": "code",
   "execution_count": 132,
   "metadata": {},
   "outputs": [],
   "source": [
    "Model.FFNN = get_sequential('FFNN')"
   ]
  },
  {
   "cell_type": "code",
   "execution_count": null,
   "metadata": {},
   "outputs": [],
   "source": []
  }
 ],
 "metadata": {
  "kernelspec": {
   "display_name": "Python 3",
   "language": "python",
   "name": "python3"
  },
  "language_info": {
   "codemirror_mode": {
    "name": "ipython",
    "version": 3
   },
   "file_extension": ".py",
   "mimetype": "text/x-python",
   "name": "python",
   "nbconvert_exporter": "python",
   "pygments_lexer": "ipython3",
   "version": "3.7.6"
  }
 },
 "nbformat": 4,
 "nbformat_minor": 4
}
