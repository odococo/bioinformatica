{
 "cells": [
  {
   "cell_type": "code",
   "execution_count": 1,
   "metadata": {},
   "outputs": [],
   "source": [
    "from typing import Dict, Tuple, List\n",
    "\n",
    "class Model:\n",
    "    def __init__(self, name: str, model, **kwargs):\n",
    "        self.name = name\n",
    "        self.model = model\n",
    "        self.kwargs = kwargs\n",
    "        \n",
    "    def __str__(self) -> str:\n",
    "        return self.name\n",
    "    \n",
    "    def __repr__(self) -> str:\n",
    "        return self.name\n",
    "    \n",
    "    def get_model(self) -> Tuple:\n",
    "        return (self.model, self.kwargs)"
   ]
  },
  {
   "cell_type": "code",
   "execution_count": 2,
   "metadata": {},
   "outputs": [],
   "source": [
    "from sklearn.tree import DecisionTreeClassifier\n",
    "\n",
    "def get_decision_tree(name: str = 'DecisionTree', criterion: str = 'gini', max_depth: int = 50, \n",
    "                      random_state: int = 42, class_weight: str = 'balanced', **kwargs) -> Model:\n",
    "    model = DecisionTreeClassifier(\n",
    "        criterion=criterion,\n",
    "        max_depth=max_depth,\n",
    "        random_state=random_state,\n",
    "        class_weight=class_weight\n",
    "    )\n",
    "    return Model(name, model, **kwargs)\n",
    "\n",
    "Model.DecisionTree = get_decision_tree"
   ]
  },
  {
   "cell_type": "code",
   "execution_count": 3,
   "metadata": {},
   "outputs": [
    {
     "data": {
      "text/plain": [
       "DecisionTree"
      ]
     },
     "execution_count": 3,
     "metadata": {},
     "output_type": "execute_result"
    }
   ],
   "source": [
    "Model.DecisionTree()"
   ]
  },
  {
   "cell_type": "code",
   "execution_count": 4,
   "metadata": {},
   "outputs": [],
   "source": [
    "from sklearn.ensemble import RandomForestClassifier\n",
    "from multiprocessing import cpu_count\n",
    "\n",
    "\n",
    "def get_random_forest(name: str = 'RandomForest', n_estimators: int = 500, criterion: str = 'gini', \n",
    "                      max_depth: int = 30, random_state: int = 42, \n",
    "                      class_weight: str = 'balanced', n_jobs: int = cpu_count, **kwargs):\n",
    "    model = RandomForestClassifier(\n",
    "        n_estimators=n_estimators,\n",
    "        criterion=criterion,\n",
    "        max_depth=max_depth,\n",
    "        random_state=random_state,\n",
    "        class_weight=class_weight,\n",
    "        n_jobs=n_jobs\n",
    "    )\n",
    "    return Model(name, model, **kwargs)\n",
    "\n",
    "Model.RandomForest = get_random_forest"
   ]
  },
  {
   "cell_type": "code",
   "execution_count": 5,
   "metadata": {},
   "outputs": [
    {
     "data": {
      "text/plain": [
       "RandomForest"
      ]
     },
     "execution_count": 5,
     "metadata": {},
     "output_type": "execute_result"
    }
   ],
   "source": [
    "Model.RandomForest()"
   ]
  },
  {
   "cell_type": "code",
   "execution_count": 6,
   "metadata": {},
   "outputs": [],
   "source": [
    "from tensorflow.keras.layers import Layer, Input, Flatten, Reshape, Dense, Conv2D, BatchNormalization, Activation, Dropout\n",
    "from tensorflow.keras.callbacks import EarlyStopping\n",
    "from tensorflow.keras.metrics import AUC"
   ]
  },
  {
   "cell_type": "code",
   "execution_count": 7,
   "metadata": {},
   "outputs": [],
   "source": [
    "from tensorflow.keras.models import Sequential\n",
    "\n",
    "def get_sequential(default_name: str = 'Sequential'):\n",
    "    # no first and last layer\n",
    "    def get_layers(*layers: Tuple[Layer]):\n",
    "        def get_model(input_shape: Tuple[int], name: str = None, optimizer: str = 'nadam', \n",
    "                      loss: str = 'binary_crossentropy', metrics: List = None,\n",
    "                      epochs: int = 1000, batch_size: int = 1024, \n",
    "                      validation_split: float = 0.1, shuffle: bool = True, verbose: bool = True, \n",
    "                      callbacks: List = None, **kwargs):\n",
    "            name = name or default_name\n",
    "            input_layer = Input(shape=input_shape)\n",
    "            output_layer = Dense(1, activation=\"sigmoid\")\n",
    "            model = Sequential((input_layer,) + layers + (output_layer,), name)\n",
    "            \n",
    "            matrics = metrics or [\n",
    "                \"accuracy\",\n",
    "                AUC(curve=\"ROC\", name=\"auroc\"),\n",
    "                AUC(curve=\"PR\", name=\"auprc\")\n",
    "            ]\n",
    "            model.compile(\n",
    "                optimizer=optimizer,\n",
    "                loss=loss,\n",
    "                metrics=metrics\n",
    "            )\n",
    "            \n",
    "            kwargs.update({\n",
    "                'epochs': epochs,\n",
    "                'batch_size': batch_size,\n",
    "                'validation_split': validation_split,\n",
    "                'shuffle': shuffle,\n",
    "                'verbose': verbose,\n",
    "                'callbacks': callbacks\n",
    "            })\n",
    "            model.summary()\n",
    "            return Model(name, model, **kwargs)\n",
    "        return get_model\n",
    "    return get_layers\n",
    "\n",
    "Model.Sequential = get_sequential()"
   ]
  },
  {
   "cell_type": "code",
   "execution_count": 8,
   "metadata": {},
   "outputs": [
    {
     "name": "stdout",
     "output_type": "stream",
     "text": [
      "Model: \"Sequential\"\n",
      "_________________________________________________________________\n",
      "Layer (type)                 Output Shape              Param #   \n",
      "=================================================================\n",
      "dense (Dense)                (None, 104, 1)            21        \n",
      "=================================================================\n",
      "Total params: 21\n",
      "Trainable params: 21\n",
      "Non-trainable params: 0\n",
      "_________________________________________________________________\n"
     ]
    },
    {
     "data": {
      "text/plain": [
       "Sequential"
      ]
     },
     "execution_count": 8,
     "metadata": {},
     "output_type": "execute_result"
    }
   ],
   "source": [
    "Model.Sequential()((104,20))"
   ]
  },
  {
   "cell_type": "code",
   "execution_count": 9,
   "metadata": {},
   "outputs": [],
   "source": [
    "Model.Perceptron = get_sequential('Perceptron')()"
   ]
  },
  {
   "cell_type": "code",
   "execution_count": 10,
   "metadata": {},
   "outputs": [
    {
     "name": "stdout",
     "output_type": "stream",
     "text": [
      "Model: \"Perceptron\"\n",
      "_________________________________________________________________\n",
      "Layer (type)                 Output Shape              Param #   \n",
      "=================================================================\n",
      "dense_1 (Dense)              (None, 1)                 105       \n",
      "=================================================================\n",
      "Total params: 105\n",
      "Trainable params: 105\n",
      "Non-trainable params: 0\n",
      "_________________________________________________________________\n"
     ]
    },
    {
     "data": {
      "text/plain": [
       "Perceptron"
      ]
     },
     "execution_count": 10,
     "metadata": {},
     "output_type": "execute_result"
    }
   ],
   "source": [
    "Model.Perceptron((104,))"
   ]
  },
  {
   "cell_type": "code",
   "execution_count": 11,
   "metadata": {},
   "outputs": [
    {
     "name": "stderr",
     "output_type": "stream",
     "text": [
      "Using TensorFlow backend.\n"
     ]
    },
    {
     "ename": "AttributeError",
     "evalue": "type object 'Model' has no attribute 'MLP'",
     "output_type": "error",
     "traceback": [
      "\u001b[0;31m---------------------------------------------------------------------------\u001b[0m",
      "\u001b[0;31mAttributeError\u001b[0m                            Traceback (most recent call last)",
      "\u001b[0;32m<ipython-input-11-dbbefac79cea>\u001b[0m in \u001b[0;36m<module>\u001b[0;34m\u001b[0m\n\u001b[1;32m      2\u001b[0m \u001b[0;34m\u001b[0m\u001b[0m\n\u001b[1;32m      3\u001b[0m \u001b[0;34m\u001b[0m\u001b[0m\n\u001b[0;32m----> 4\u001b[0;31m Model.MLP(\n\u001b[0m\u001b[1;32m      5\u001b[0m     \u001b[0mDense\u001b[0m\u001b[0;34m(\u001b[0m\u001b[0;36m128\u001b[0m\u001b[0;34m,\u001b[0m \u001b[0mactivation\u001b[0m\u001b[0;34m=\u001b[0m\u001b[0;34m\"relu\"\u001b[0m\u001b[0;34m)\u001b[0m\u001b[0;34m,\u001b[0m\u001b[0;34m\u001b[0m\u001b[0;34m\u001b[0m\u001b[0m\n\u001b[1;32m      6\u001b[0m     \u001b[0mDense\u001b[0m\u001b[0;34m(\u001b[0m\u001b[0;36m64\u001b[0m\u001b[0;34m,\u001b[0m \u001b[0mactivation\u001b[0m\u001b[0;34m=\u001b[0m\u001b[0;34m\"relu\"\u001b[0m\u001b[0;34m)\u001b[0m\u001b[0;34m,\u001b[0m\u001b[0;34m\u001b[0m\u001b[0;34m\u001b[0m\u001b[0m\n",
      "\u001b[0;31mAttributeError\u001b[0m: type object 'Model' has no attribute 'MLP'"
     ]
    }
   ],
   "source": [
    "from keras_tqdm import TQDMNotebookCallback as ktqdm\n",
    "\n",
    "\n",
    "Model.MLP(\n",
    "    Dense(128, activation=\"relu\"),\n",
    "    Dense(64, activation=\"relu\"),\n",
    "    Dense(32, activation=\"relu\")\n",
    ")((104,), )"
   ]
  },
  {
   "cell_type": "code",
   "execution_count": null,
   "metadata": {},
   "outputs": [],
   "source": [
    "Model.MLP = get_sequential('MLP')\n",
    "Model.FFNN = get_sequential('FFNN')\n",
    "Model.CNN = get_sequential('CNN')"
   ]
  },
  {
   "cell_type": "code",
   "execution_count": null,
   "metadata": {},
   "outputs": [],
   "source": [
    "Model.MLP_Epi = Model.MLP(\n",
    "    Dense(128, activation=\"relu\"),\n",
    "    Dense(64, activation=\"relu\"),\n",
    "    Dense(32, activation=\"relu\"),\n",
    ")(input_shape=(104,), callbacks=[\n",
    "        EarlyStopping(monitor=\"val_loss\", mode=\"min\", patience=50),\n",
    "        ktqdm(leave_outer=False)\n",
    "    ])"
   ]
  },
  {
   "cell_type": "code",
   "execution_count": null,
   "metadata": {},
   "outputs": [],
   "source": [
    "Model.FFNN_Epi = Model.FFNN(\n",
    "    Dense(256, activation=\"relu\"),\n",
    "    Dense(128),\n",
    "    BatchNormalization(),\n",
    "    Activation(\"relu\"),\n",
    "    Dense(64, activation=\"relu\"),\n",
    "    Dropout(0.3),\n",
    "    Dense(32, activation=\"relu\"),\n",
    "    Dense(16, activation=\"relu\"),\n",
    ")(input_shape=(104,))"
   ]
  },
  {
   "cell_type": "code",
   "execution_count": null,
   "metadata": {},
   "outputs": [],
   "source": [
    "Model.MLP_Seq = Model.MLP(\n",
    "    Flatten()\n",
    ")(input_shape=(200, 4))"
   ]
  },
  {
   "cell_type": "code",
   "execution_count": null,
   "metadata": {},
   "outputs": [],
   "source": [
    "Model.FFNN_Seq = Model.FFNN(\n",
    "    Flatten(),\n",
    "    Dense(128, activation=\"relu\"),\n",
    "    Dense(64, activation=\"relu\"),\n",
    "    Dropout(0.3),\n",
    "    Dense(64, activation=\"relu\"),\n",
    "    Dropout(0.3),\n",
    "    Dense(32, activation=\"relu\"),\n",
    "    Dense(16, activation=\"relu\"),\n",
    ")(input_shape=(200, 4))"
   ]
  },
  {
   "cell_type": "code",
   "execution_count": null,
   "metadata": {},
   "outputs": [],
   "source": [
    "Model.CNN_Seq = Model.CNN(\n",
    "    Reshape((200, 4, 1)),\n",
    "    Conv2D(64, kernel_size=(10, 2), activation=\"relu\"),\n",
    "    Conv2D(64, kernel_size=(10, 2), activation=\"relu\"),\n",
    "    Dropout(0.3),\n",
    "    Conv2D(32, kernel_size=(10, 2), strides=(2, 1), activation=\"relu\"),\n",
    "    Conv2D(32, kernel_size=(10, 1), activation=\"relu\"),\n",
    "    Conv2D(32, kernel_size=(10, 1), activation=\"relu\"),\n",
    "    Dropout(0.3),\n",
    "    Flatten(),\n",
    "    Dense(32, activation=\"relu\"),\n",
    "    Dense(16, activation=\"relu\"),\n",
    ")(input_shape=(200, 4))"
   ]
  },
  {
   "cell_type": "code",
   "execution_count": null,
   "metadata": {},
   "outputs": [],
   "source": []
  }
 ],
 "metadata": {
  "kernelspec": {
   "display_name": "Python 3",
   "language": "python",
   "name": "python3"
  },
  "language_info": {
   "codemirror_mode": {
    "name": "ipython",
    "version": 3
   },
   "file_extension": ".py",
   "mimetype": "text/x-python",
   "name": "python",
   "nbconvert_exporter": "python",
   "pygments_lexer": "ipython3",
   "version": "3.7.6"
  }
 },
 "nbformat": 4,
 "nbformat_minor": 4
}
