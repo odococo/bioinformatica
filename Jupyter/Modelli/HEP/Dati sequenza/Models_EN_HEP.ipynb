{
 "cells": [
  {
   "cell_type": "code",
   "execution_count": 1,
   "metadata": {},
   "outputs": [],
   "source": [
    "from epigenomic_dataset import load_epigenomes\n",
    "from sklearn.impute import KNNImputer\n",
    "from sklearn.preprocessing import RobustScaler\n",
    "\n",
    "# The considered window size\n",
    "window_size = 200\n",
    "cell_line=\"HEPG2\"\n",
    "regions=\"enhancers\"\n",
    "\n",
    "# Retrieving the input data\n",
    "X, y = load_epigenomes(\n",
    "    cell_line = cell_line,\n",
    "    dataset = \"fantom\",\n",
    "    regions = regions,\n",
    "    window_size = window_size\n",
    ")\n",
    "\n",
    "y = y.values.ravel()\n",
    "\n",
    "# Imputation of NaN Values\n",
    "X[X.columns] = KNNImputer(n_neighbors=X.shape[0]//10).fit_transform(X)\n",
    "\n",
    "# Robust normalization of the values\n",
    "X[X.columns] = RobustScaler().fit_transform(X)\n",
    "\n",
    "#X = X.values\n",
    "shape=(200,4)\n",
    "#type(X)\n",
    "# Here one should feature selection. How can we do this?"
   ]
  },
  {
   "cell_type": "code",
   "execution_count": 2,
   "metadata": {},
   "outputs": [
    {
     "data": {
      "application/vnd.jupyter.widget-view+json": {
       "model_id": "",
       "version_major": 2,
       "version_minor": 0
      },
      "text/plain": [
       "HBox(children=(FloatProgress(value=0.0, description='Loading chromosomes for genome C:\\\\Users\\\\matte\\\\Desktop\\…"
      ]
     },
     "metadata": {},
     "output_type": "display_data"
    },
    {
     "name": "stdout",
     "output_type": "stream",
     "text": [
      "\r"
     ]
    }
   ],
   "source": [
    "from ucsc_genomes_downloader import Genome\n",
    "assembly=r\"C:\\Users\\matte\\Desktop\\Bioinformatica\\genomes\\hg19\"\n",
    "genome = Genome(assembly)"
   ]
  },
  {
   "cell_type": "code",
   "execution_count": 3,
   "metadata": {},
   "outputs": [
    {
     "name": "stderr",
     "output_type": "stream",
     "text": [
      "C:\\Users\\matte\\anaconda3\\lib\\site-packages\\tensorflow\\python\\framework\\dtypes.py:516: FutureWarning: Passing (type, 1) or '1type' as a synonym of type is deprecated; in a future version of numpy, it will be understood as (type, (1,)) / '(1,)type'.\n",
      "  _np_qint8 = np.dtype([(\"qint8\", np.int8, 1)])\n",
      "C:\\Users\\matte\\anaconda3\\lib\\site-packages\\tensorflow\\python\\framework\\dtypes.py:517: FutureWarning: Passing (type, 1) or '1type' as a synonym of type is deprecated; in a future version of numpy, it will be understood as (type, (1,)) / '(1,)type'.\n",
      "  _np_quint8 = np.dtype([(\"quint8\", np.uint8, 1)])\n",
      "C:\\Users\\matte\\anaconda3\\lib\\site-packages\\tensorflow\\python\\framework\\dtypes.py:518: FutureWarning: Passing (type, 1) or '1type' as a synonym of type is deprecated; in a future version of numpy, it will be understood as (type, (1,)) / '(1,)type'.\n",
      "  _np_qint16 = np.dtype([(\"qint16\", np.int16, 1)])\n",
      "C:\\Users\\matte\\anaconda3\\lib\\site-packages\\tensorflow\\python\\framework\\dtypes.py:519: FutureWarning: Passing (type, 1) or '1type' as a synonym of type is deprecated; in a future version of numpy, it will be understood as (type, (1,)) / '(1,)type'.\n",
      "  _np_quint16 = np.dtype([(\"quint16\", np.uint16, 1)])\n",
      "C:\\Users\\matte\\anaconda3\\lib\\site-packages\\tensorflow\\python\\framework\\dtypes.py:520: FutureWarning: Passing (type, 1) or '1type' as a synonym of type is deprecated; in a future version of numpy, it will be understood as (type, (1,)) / '(1,)type'.\n",
      "  _np_qint32 = np.dtype([(\"qint32\", np.int32, 1)])\n",
      "C:\\Users\\matte\\anaconda3\\lib\\site-packages\\tensorflow\\python\\framework\\dtypes.py:525: FutureWarning: Passing (type, 1) or '1type' as a synonym of type is deprecated; in a future version of numpy, it will be understood as (type, (1,)) / '(1,)type'.\n",
      "  np_resource = np.dtype([(\"resource\", np.ubyte, 1)])\n",
      "C:\\Users\\matte\\anaconda3\\lib\\site-packages\\tensorboard\\compat\\tensorflow_stub\\dtypes.py:541: FutureWarning: Passing (type, 1) or '1type' as a synonym of type is deprecated; in a future version of numpy, it will be understood as (type, (1,)) / '(1,)type'.\n",
      "  _np_qint8 = np.dtype([(\"qint8\", np.int8, 1)])\n",
      "C:\\Users\\matte\\anaconda3\\lib\\site-packages\\tensorboard\\compat\\tensorflow_stub\\dtypes.py:542: FutureWarning: Passing (type, 1) or '1type' as a synonym of type is deprecated; in a future version of numpy, it will be understood as (type, (1,)) / '(1,)type'.\n",
      "  _np_quint8 = np.dtype([(\"quint8\", np.uint8, 1)])\n",
      "C:\\Users\\matte\\anaconda3\\lib\\site-packages\\tensorboard\\compat\\tensorflow_stub\\dtypes.py:543: FutureWarning: Passing (type, 1) or '1type' as a synonym of type is deprecated; in a future version of numpy, it will be understood as (type, (1,)) / '(1,)type'.\n",
      "  _np_qint16 = np.dtype([(\"qint16\", np.int16, 1)])\n",
      "C:\\Users\\matte\\anaconda3\\lib\\site-packages\\tensorboard\\compat\\tensorflow_stub\\dtypes.py:544: FutureWarning: Passing (type, 1) or '1type' as a synonym of type is deprecated; in a future version of numpy, it will be understood as (type, (1,)) / '(1,)type'.\n",
      "  _np_quint16 = np.dtype([(\"quint16\", np.uint16, 1)])\n",
      "C:\\Users\\matte\\anaconda3\\lib\\site-packages\\tensorboard\\compat\\tensorflow_stub\\dtypes.py:545: FutureWarning: Passing (type, 1) or '1type' as a synonym of type is deprecated; in a future version of numpy, it will be understood as (type, (1,)) / '(1,)type'.\n",
      "  _np_qint32 = np.dtype([(\"qint32\", np.int32, 1)])\n",
      "C:\\Users\\matte\\anaconda3\\lib\\site-packages\\tensorboard\\compat\\tensorflow_stub\\dtypes.py:550: FutureWarning: Passing (type, 1) or '1type' as a synonym of type is deprecated; in a future version of numpy, it will be understood as (type, (1,)) / '(1,)type'.\n",
      "  np_resource = np.dtype([(\"resource\", np.ubyte, 1)])\n"
     ]
    },
    {
     "data": {
      "text/plain": [
       "'1.14.0'"
      ]
     },
     "execution_count": 3,
     "metadata": {},
     "output_type": "execute_result"
    }
   ],
   "source": [
    "import tensorflow as tf\n",
    "tf.__version__"
   ]
  },
  {
   "cell_type": "code",
   "execution_count": 4,
   "metadata": {},
   "outputs": [],
   "source": [
    "import pandas as pd\n",
    "import numpy as np\n",
    "from keras_bed_sequence import BedSequence\n",
    "\n",
    "def to_bed(data:pd.DataFrame)->pd.DataFrame:\n",
    "    \"\"\"Return bed coordinates from given dataset.\"\"\"\n",
    "    return data.reset_index()[data.index.names]\n",
    "\n",
    "\n",
    "def one_hot_encode(genome:Genome, data:pd.DataFrame, nucleotides:str=\"actg\")->np.ndarray:\n",
    "    return np.array(BedSequence(\n",
    "        genome,\n",
    "        bed=to_bed(data),\n",
    "        nucleotides=nucleotides,\n",
    "        batch_size=1\n",
    "    ))\n",
    "\n",
    "def flat_one_hot_encode(genome:Genome, data:pd.DataFrame, window_size:int, nucleotides:str=\"actg\")->np.ndarray:\n",
    "    return one_hot_encode(genome, data, nucleotides).reshape(-1, window_size*4).astype(int)\n",
    "\n",
    "def to_dataframe(x:np.ndarray, window_size:int, nucleotides:str=\"actg\")->pd.DataFrame:\n",
    "    return pd.DataFrame(\n",
    "        x,\n",
    "        columns = [\n",
    "            f\"{i}{nucleotide}\"\n",
    "            for i in range(window_size)\n",
    "            for nucleotide in nucleotides\n",
    "        ]\n",
    "    )"
   ]
  },
  {
   "cell_type": "code",
   "execution_count": 5,
   "metadata": {},
   "outputs": [],
   "source": [
    "#sequences =  to_dataframe(\n",
    " #       flat_one_hot_encode(genome, X, window_size),\n",
    "  #      window_size\n",
    "  #  )\n"
   ]
  },
  {
   "cell_type": "code",
   "execution_count": 6,
   "metadata": {},
   "outputs": [
    {
     "data": {
      "text/html": [
       "<div>\n",
       "<style scoped>\n",
       "    .dataframe tbody tr th:only-of-type {\n",
       "        vertical-align: middle;\n",
       "    }\n",
       "\n",
       "    .dataframe tbody tr th {\n",
       "        vertical-align: top;\n",
       "    }\n",
       "\n",
       "    .dataframe thead th {\n",
       "        text-align: right;\n",
       "    }\n",
       "</style>\n",
       "<table border=\"1\" class=\"dataframe\">\n",
       "  <thead>\n",
       "    <tr style=\"text-align: right;\">\n",
       "      <th></th>\n",
       "      <th>chrom</th>\n",
       "      <th>chromStart</th>\n",
       "      <th>chromEnd</th>\n",
       "      <th>strand</th>\n",
       "    </tr>\n",
       "  </thead>\n",
       "  <tbody>\n",
       "    <tr>\n",
       "      <th>0</th>\n",
       "      <td>chr1</td>\n",
       "      <td>839687</td>\n",
       "      <td>839887</td>\n",
       "      <td>.</td>\n",
       "    </tr>\n",
       "    <tr>\n",
       "      <th>1</th>\n",
       "      <td>chr1</td>\n",
       "      <td>840711</td>\n",
       "      <td>840911</td>\n",
       "      <td>.</td>\n",
       "    </tr>\n",
       "    <tr>\n",
       "      <th>2</th>\n",
       "      <td>chr1</td>\n",
       "      <td>845481</td>\n",
       "      <td>845681</td>\n",
       "      <td>.</td>\n",
       "    </tr>\n",
       "    <tr>\n",
       "      <th>3</th>\n",
       "      <td>chr1</td>\n",
       "      <td>855755</td>\n",
       "      <td>855955</td>\n",
       "      <td>.</td>\n",
       "    </tr>\n",
       "    <tr>\n",
       "      <th>4</th>\n",
       "      <td>chr1</td>\n",
       "      <td>856613</td>\n",
       "      <td>856813</td>\n",
       "      <td>.</td>\n",
       "    </tr>\n",
       "    <tr>\n",
       "      <th>...</th>\n",
       "      <td>...</td>\n",
       "      <td>...</td>\n",
       "      <td>...</td>\n",
       "      <td>...</td>\n",
       "    </tr>\n",
       "    <tr>\n",
       "      <th>65418</th>\n",
       "      <td>chrY</td>\n",
       "      <td>58986666</td>\n",
       "      <td>58986866</td>\n",
       "      <td>.</td>\n",
       "    </tr>\n",
       "    <tr>\n",
       "      <th>65419</th>\n",
       "      <td>chrY</td>\n",
       "      <td>58994460</td>\n",
       "      <td>58994660</td>\n",
       "      <td>.</td>\n",
       "    </tr>\n",
       "    <tr>\n",
       "      <th>65420</th>\n",
       "      <td>chrY</td>\n",
       "      <td>59019261</td>\n",
       "      <td>59019461</td>\n",
       "      <td>.</td>\n",
       "    </tr>\n",
       "    <tr>\n",
       "      <th>65421</th>\n",
       "      <td>chrY</td>\n",
       "      <td>59019818</td>\n",
       "      <td>59020018</td>\n",
       "      <td>.</td>\n",
       "    </tr>\n",
       "    <tr>\n",
       "      <th>65422</th>\n",
       "      <td>chrY</td>\n",
       "      <td>59025836</td>\n",
       "      <td>59026036</td>\n",
       "      <td>.</td>\n",
       "    </tr>\n",
       "  </tbody>\n",
       "</table>\n",
       "<p>65423 rows × 4 columns</p>\n",
       "</div>"
      ],
      "text/plain": [
       "      chrom  chromStart  chromEnd strand\n",
       "0      chr1      839687    839887      .\n",
       "1      chr1      840711    840911      .\n",
       "2      chr1      845481    845681      .\n",
       "3      chr1      855755    855955      .\n",
       "4      chr1      856613    856813      .\n",
       "...     ...         ...       ...    ...\n",
       "65418  chrY    58986666  58986866      .\n",
       "65419  chrY    58994460  58994660      .\n",
       "65420  chrY    59019261  59019461      .\n",
       "65421  chrY    59019818  59020018      .\n",
       "65422  chrY    59025836  59026036      .\n",
       "\n",
       "[65423 rows x 4 columns]"
      ]
     },
     "execution_count": 6,
     "metadata": {},
     "output_type": "execute_result"
    }
   ],
   "source": [
    "sequences=to_bed(X)\n",
    "sequences"
   ]
  },
  {
   "cell_type": "code",
   "execution_count": 7,
   "metadata": {},
   "outputs": [],
   "source": [
    "from typing import Dict, Tuple, List\n",
    "\n",
    "class Model:\n",
    "    def __init__(self, name: str, model, **kwargs):\n",
    "        self.name = name\n",
    "        self.model = model\n",
    "        self.kwargs = kwargs\n",
    "        \n",
    "    def __str__(self) -> str:\n",
    "        return self.name\n",
    "    \n",
    "    def __repr__(self) -> str:\n",
    "        return self.name\n",
    "    \n",
    "    def get_model(self) -> Tuple:\n",
    "        return (self.model, self.kwargs)"
   ]
  },
  {
   "cell_type": "code",
   "execution_count": 8,
   "metadata": {},
   "outputs": [],
   "source": [
    "from sklearn.tree import DecisionTreeClassifier\n",
    "\n",
    "def get_decision_tree(name: str = 'DecisionTree', criterion: str = 'gini', max_depth: int = 50, \n",
    "                      random_state: int = 42, class_weight: str = 'balanced', **kwargs) -> Model:\n",
    "    model = DecisionTreeClassifier(\n",
    "        criterion=criterion,\n",
    "        max_depth=max_depth,\n",
    "        random_state=random_state,\n",
    "        class_weight=class_weight\n",
    "    )\n",
    "    return Model(name, model, **kwargs)\n",
    "\n",
    "Model.DecisionTree = get_decision_tree"
   ]
  },
  {
   "cell_type": "code",
   "execution_count": 9,
   "metadata": {},
   "outputs": [
    {
     "data": {
      "text/plain": [
       "DecisionTree"
      ]
     },
     "execution_count": 9,
     "metadata": {},
     "output_type": "execute_result"
    }
   ],
   "source": [
    "Model.DecisionTree()"
   ]
  },
  {
   "cell_type": "code",
   "execution_count": 10,
   "metadata": {},
   "outputs": [],
   "source": [
    "from sklearn.ensemble import RandomForestClassifier\n",
    "from multiprocessing import cpu_count\n",
    "\n",
    "\n",
    "def get_random_forest(name: str = 'RandomForest', n_estimators: int = 500, criterion: str = 'gini', \n",
    "                      max_depth: int = 30, random_state: int = 42, \n",
    "                      class_weight: str = 'balanced', n_jobs: int = cpu_count, **kwargs):\n",
    "    model = RandomForestClassifier(\n",
    "        n_estimators=n_estimators,\n",
    "        criterion=criterion,\n",
    "        max_depth=max_depth,\n",
    "        random_state=random_state,\n",
    "        class_weight=class_weight,\n",
    "        n_jobs=n_jobs\n",
    "    )\n",
    "    return Model(name, model, **kwargs)\n",
    "\n",
    "Model.RandomForest = get_random_forest"
   ]
  },
  {
   "cell_type": "code",
   "execution_count": 11,
   "metadata": {},
   "outputs": [
    {
     "data": {
      "text/plain": [
       "RandomForest"
      ]
     },
     "execution_count": 11,
     "metadata": {},
     "output_type": "execute_result"
    }
   ],
   "source": [
    "Model.RandomForest()"
   ]
  },
  {
   "cell_type": "code",
   "execution_count": 12,
   "metadata": {},
   "outputs": [],
   "source": [
    "from tensorflow.keras.layers import Layer, Input, Flatten, Reshape, Dense, Conv2D, BatchNormalization, Activation, Dropout\n",
    "from tensorflow.keras.callbacks import EarlyStopping\n",
    "from tensorflow.keras.metrics import AUC\n",
    "from sklearn.model_selection import StratifiedShuffleSplit\n"
   ]
  },
  {
   "cell_type": "code",
   "execution_count": 13,
   "metadata": {},
   "outputs": [],
   "source": [
    "from tensorflow.keras.layers import AlphaDropout, ThresholdedReLU"
   ]
  },
  {
   "cell_type": "code",
   "execution_count": 14,
   "metadata": {},
   "outputs": [],
   "source": [
    "from tensorflow.keras.layers import MaxPool2D"
   ]
  },
  {
   "cell_type": "code",
   "execution_count": 15,
   "metadata": {},
   "outputs": [],
   "source": [
    "from tensorflow.keras.models import Sequential\n",
    "\n",
    "def get_sequential(default_name: str = 'Sequential'):\n",
    "    # no first and last layer\n",
    "    def get_layers(*layers: Tuple[Layer]):\n",
    "        def get_model(input_shape: Tuple[int], name: str = None, optimizer: str = 'nadam', \n",
    "                      loss: str = 'binary_crossentropy', metrics: List = None,\n",
    "                      epochs: int = 1000, batch_size: int = 1024, \n",
    "                      validation_split: float = 0.1, shuffle: bool = True, verbose: bool = False, \n",
    "                      callbacks: List = None, **kwargs):\n",
    "            name = name or default_name\n",
    "            input_layer = Input(shape=input_shape)\n",
    "            output_layer = Dense(1, activation=\"sigmoid\")\n",
    "            model = Sequential((input_layer,) + layers + (output_layer,), name)\n",
    "            \n",
    "            metrics = metrics or [\n",
    "                \"accuracy\",\n",
    "                AUC(curve=\"ROC\", name=\"auroc\"),\n",
    "                AUC(curve=\"PR\", name=\"auprc\")\n",
    "            ]\n",
    "            model.compile(\n",
    "                optimizer=optimizer,\n",
    "                loss=loss,\n",
    "                metrics=metrics\n",
    "            )\n",
    "            \n",
    "            kwargs.update({\n",
    "                'epochs': epochs,\n",
    "                'batch_size': batch_size,\n",
    "                'validation_split': validation_split,\n",
    "                'shuffle': shuffle,\n",
    "                'verbose': verbose,\n",
    "                'callbacks': callbacks\n",
    "            })\n",
    "            model.summary()\n",
    "            return Model(name, model, **kwargs)\n",
    "        return get_model\n",
    "    return get_layers\n",
    "\n",
    "Model.Sequential = get_sequential()"
   ]
  },
  {
   "cell_type": "code",
   "execution_count": 16,
   "metadata": {},
   "outputs": [
    {
     "name": "stdout",
     "output_type": "stream",
     "text": [
      "WARNING:tensorflow:From C:\\Users\\matte\\anaconda3\\lib\\site-packages\\tensorflow\\python\\ops\\init_ops.py:1251: calling VarianceScaling.__init__ (from tensorflow.python.ops.init_ops) with dtype is deprecated and will be removed in a future version.\n",
      "Instructions for updating:\n",
      "Call initializer instance with the dtype argument instead of passing it to the constructor\n",
      "WARNING:tensorflow:From C:\\Users\\matte\\anaconda3\\lib\\site-packages\\tensorflow\\python\\keras\\metrics.py:1776: add_dispatch_support.<locals>.wrapper (from tensorflow.python.ops.array_ops) is deprecated and will be removed in a future version.\n",
      "Instructions for updating:\n",
      "Use tf.where in 2.0, which has the same broadcast rule as np.where\n",
      "Model: \"Sequential\"\n",
      "_________________________________________________________________\n",
      "Layer (type)                 Output Shape              Param #   \n",
      "=================================================================\n",
      "dense (Dense)                (None, 104, 1)            21        \n",
      "=================================================================\n",
      "Total params: 21\n",
      "Trainable params: 21\n",
      "Non-trainable params: 0\n",
      "_________________________________________________________________\n"
     ]
    },
    {
     "data": {
      "text/plain": [
       "Sequential"
      ]
     },
     "execution_count": 16,
     "metadata": {},
     "output_type": "execute_result"
    }
   ],
   "source": [
    "Model.Sequential()((104,20))"
   ]
  },
  {
   "cell_type": "code",
   "execution_count": 17,
   "metadata": {},
   "outputs": [],
   "source": [
    "Model.Perceptron = get_sequential('Perceptron')()"
   ]
  },
  {
   "cell_type": "code",
   "execution_count": 18,
   "metadata": {},
   "outputs": [
    {
     "name": "stdout",
     "output_type": "stream",
     "text": [
      "Model: \"Perceptron\"\n",
      "_________________________________________________________________\n",
      "Layer (type)                 Output Shape              Param #   \n",
      "=================================================================\n",
      "dense_1 (Dense)              (None, 1)                 105       \n",
      "=================================================================\n",
      "Total params: 105\n",
      "Trainable params: 105\n",
      "Non-trainable params: 0\n",
      "_________________________________________________________________\n"
     ]
    },
    {
     "data": {
      "text/plain": [
       "Perceptron"
      ]
     },
     "execution_count": 18,
     "metadata": {},
     "output_type": "execute_result"
    }
   ],
   "source": [
    "Model.Perceptron((104,))"
   ]
  },
  {
   "cell_type": "code",
   "execution_count": 19,
   "metadata": {},
   "outputs": [],
   "source": [
    "Model.MLP = get_sequential('MLP') \n",
    "Model.FFNN = get_sequential('FFNN')\n",
    "Model.CNN = get_sequential('CNN')"
   ]
  },
  {
   "cell_type": "code",
   "execution_count": 20,
   "metadata": {},
   "outputs": [],
   "source": [
    "#training 20 sec \n",
    "Model.MLP_Epi = Model.MLP(\n",
    "    Dense(128, activation=\"relu\"),\n",
    "    Dense(64, activation=\"relu\"),\n",
    "    Dense(32, activation=\"relu\"),\n",
    ")"
   ]
  },
  {
   "cell_type": "code",
   "execution_count": 21,
   "metadata": {},
   "outputs": [],
   "source": [
    "#training 40 sec\n",
    "Model.FFNN_Epi = Model.FFNN(\n",
    "    Dense(256, activation=\"relu\"),\n",
    "    Dense(128),\n",
    "    BatchNormalization(),\n",
    "    Activation(\"relu\"),\n",
    "    Dense(64, activation=\"relu\"),\n",
    "    Dropout(0.3),\n",
    "    Dense(32, activation=\"relu\"),\n",
    "    Dense(16, activation=\"relu\"),\n",
    ")"
   ]
  },
  {
   "cell_type": "code",
   "execution_count": 22,
   "metadata": {},
   "outputs": [],
   "source": [
    "#test con Alphadropout e ThresholdedReLU\n",
    "Model.FFNN_Epi_2 = Model.FFNN(\n",
    "    Dense(256, activation=\"relu\"),\n",
    "    Dense(128),\n",
    "    BatchNormalization(),\n",
    "    ThresholdedReLU(0.05),\n",
    "    Dense(64, activation=\"relu\"),\n",
    "    AlphaDropout(0.3), #new\n",
    "    Dense(32, activation=\"relu\"),\n",
    "    Dense(16, activation=\"relu\"),\n",
    ")"
   ]
  },
  {
   "cell_type": "code",
   "execution_count": 23,
   "metadata": {},
   "outputs": [],
   "source": [
    "#test con\n",
    "Model.FFNN_Epi_3 = Model.FFNN(\n",
    "    Dense(256, activation=\"relu\"),\n",
    "    Dense(128, activation=\"relu\"),\n",
    "    BatchNormalization(),\n",
    "    ThresholdedReLU(0.05),\n",
    "    Dense(64, activation=\"relu\"),\n",
    "    Dense(64, activation=\"relu\"),\n",
    "    AlphaDropout(0.5), #new\n",
    "    Dense(32, activation=\"relu\"),\n",
    "    Dense(16, activation=\"relu\"),\n",
    ")"
   ]
  },
  {
   "cell_type": "code",
   "execution_count": 24,
   "metadata": {},
   "outputs": [],
   "source": [
    "Model.MLP_Seq = Model.MLP(\n",
    "    Flatten(),\n",
    "    Dense(64, activation=\"relu\"),\n",
    "    Dense(32, activation=\"relu\")\n",
    ")"
   ]
  },
  {
   "cell_type": "code",
   "execution_count": 25,
   "metadata": {},
   "outputs": [],
   "source": [
    "Model.FFNN_Seq = Model.FFNN(\n",
    "    Flatten(),\n",
    "    Dense(256, activation=\"relu\"),\n",
    "    Dense(128),\n",
    "    BatchNormalization(),\n",
    "    ThresholdedReLU(0.05),\n",
    "    Dense(64, activation=\"relu\"),\n",
    "    AlphaDropout(0.3), #new\n",
    "    Dense(32, activation=\"relu\"),\n",
    "    Dense(16, activation=\"relu\"),\n",
    ")"
   ]
  },
  {
   "cell_type": "code",
   "execution_count": 26,
   "metadata": {},
   "outputs": [],
   "source": [
    "Model.CNN_Seq = Model.CNN(\n",
    "    Reshape((200, 4, 1)),\n",
    "    Conv2D(64, kernel_size=(10, 2), activation=\"relu\"),\n",
    "    BatchNormalization(),\n",
    "    Conv2D(64, kernel_size=(5, 2), activation=\"relu\"),\n",
    "    BatchNormalization(),\n",
    "    MaxPool2D(),\n",
    "    Conv2D(32, kernel_size=(10, 1), activation=\"relu\"),\n",
    "    BatchNormalization(),\n",
    "    Flatten(),\n",
    "    Dense(32, activation=\"relu\"),\n",
    "    Dropout(0.1),\n",
    "    Dense(32, activation=\"relu\"),\n",
    "    Dropout(0.3),\n",
    "\n",
    "\n",
    ")"
   ]
  },
  {
   "cell_type": "code",
   "execution_count": 27,
   "metadata": {},
   "outputs": [],
   "source": [
    "\n",
    "from typing import Dict, Union, Tuple\n",
    "\n",
    "import tensorflow as tf\n",
    "\n",
    "from tensorflow.keras.utils import Sequence\n",
    "\n",
    "import numpy as np\n",
    "\n",
    "from tensorflow.keras.utils import Sequence\n",
    "\n",
    "import numpy as np\n",
    "\n",
    "\n",
    "\n",
    "\n",
    "from typing import List\n",
    "\n",
    "\n",
    "\n",
    "\n",
    "\n",
    "\n",
    "\n",
    "def sequence_length(sequence: List, batch_size: int) -> int:\n",
    "\n",
    "    \"\"\"Return number of batch sizes contained in sequence.\n",
    "\n",
    "\n",
    "\n",
    "    Parameters\n",
    "\n",
    "    -----------\n",
    "\n",
    "    sequence: List,\n",
    "\n",
    "        Iterable to split into batches.\n",
    "\n",
    "    batch_size: int,\n",
    "\n",
    "        Size of the batches.\n",
    "\n",
    "\n",
    "\n",
    "    Returns\n",
    "\n",
    "    -----------\n",
    "\n",
    "    Return number of batch size contained in given sequence, by excess.\n",
    "\n",
    "    \"\"\"\n",
    "\n",
    "    return int(np.ceil(len(sequence) / float(batch_size)))\n",
    "\n",
    "def batch_slice(index: int, batch_size: int) -> slice:\n",
    "\n",
    "    \"\"\"Return slice corresponding to given index for given batch_size.\n",
    "\n",
    "\n",
    "\n",
    "    Parameters\n",
    "\n",
    "    ---------------\n",
    "\n",
    "    index: int,\n",
    "\n",
    "        Index corresponding to batch to be rendered.\n",
    "\n",
    "    batch_size: int\n",
    "\n",
    "        Batch size for the current Sequence.\n",
    "\n",
    "\n",
    "\n",
    "    Returns\n",
    "\n",
    "    ---------------\n",
    "\n",
    "    Return slice corresponding to given index for given batch_size.\n",
    "\n",
    "    \"\"\"\n",
    "\n",
    "    return slice(index * batch_size, (index + 1) * batch_size)\n",
    "\n",
    "\n",
    "class NumpySequence(Sequence):\n",
    "\n",
    "    \"\"\"NumpySequence is a Sequence wrapper to uniform Numpy Arrays as Keras Sequences.\n",
    "\n",
    "\n",
    "\n",
    "    Usage Examples\n",
    "\n",
    "    ----------------------------\n",
    "\n",
    "    The main usage of this class is as a package private wrapper for Sequences.\n",
    "\n",
    "    It is required to uniformely return a batch of the array,\n",
    "\n",
    "    without introducing special cases.\n",
    "\n",
    "    However, a basic usage example could be the following:\n",
    "\n",
    "\n",
    "\n",
    "    Wrapping a numpy array as a Sequence\n",
    "\n",
    "    ~~~~~~~~~~~~~~~~~~~~~~~~~~~~~~~~~~~~~~~~~\n",
    "\n",
    "\n",
    "\n",
    "    .. code:: python\n",
    "\n",
    "\n",
    "\n",
    "        from keras_mixed_sequence import NumpySequence\n",
    "\n",
    "        import numpy as np\n",
    "\n",
    "\n",
    "\n",
    "        examples_number = 1000\n",
    "\n",
    "        features_number = 10\n",
    "\n",
    "        batch_size = 32\n",
    "\n",
    "\n",
    "\n",
    "        my_array = np.random.randint(\n",
    "\n",
    "            2, shape=(\n",
    "\n",
    "                examples_number,\n",
    "\n",
    "                features_number\n",
    "\n",
    "            )\n",
    "\n",
    "        )\n",
    "\n",
    "\n",
    "\n",
    "        my_sequence = NumpySequence(my_array, batch_size)\n",
    "\n",
    "\n",
    "\n",
    "        # Keras will require the i-th batch as follows:\n",
    "\n",
    "        ith_batch = my_sequence[i]\n",
    "\n",
    "\n",
    "\n",
    "    \"\"\"\n",
    "\n",
    "\n",
    "\n",
    "    def __init__(\n",
    "\n",
    "        self,\n",
    "\n",
    "        array: np.ndarray,\n",
    "\n",
    "        batch_size: int,\n",
    "\n",
    "        seed: int = 42,\n",
    "\n",
    "        elapsed_epochs: int = 0,\n",
    "\n",
    "        dtype = float\n",
    "\n",
    "    ):\n",
    "\n",
    "        \"\"\"Return new NumpySequence object.\n",
    "\n",
    "\n",
    "\n",
    "        Parameters\n",
    "\n",
    "        --------------\n",
    "\n",
    "        array: np.ndarray,\n",
    "\n",
    "            Numpy array to be split into batches.\n",
    "\n",
    "        batch_size: int,\n",
    "\n",
    "            Batch size for the current Sequence.\n",
    "\n",
    "        seed: int = 42,\n",
    "\n",
    "            Starting seed to use if shuffling the dataset.\n",
    "\n",
    "        elapsed_epochs: int = 0,\n",
    "\n",
    "            Number of elapsed epochs to init state of generator.\n",
    "\n",
    "        dtype = float,\n",
    "\n",
    "            Type to which to cast the array if it is not already.\n",
    "\n",
    "\n",
    "\n",
    "        Returns\n",
    "\n",
    "        --------------\n",
    "\n",
    "        Return new NumpySequence object.\n",
    "\n",
    "        \"\"\"\n",
    "\n",
    "        if array.dtype != dtype:\n",
    "\n",
    "            array = array.astype(dtype)\n",
    "\n",
    "        self._array, self._batch_size = array, batch_size\n",
    "\n",
    "        self._seed, self._elapsed_epochs = seed, elapsed_epochs\n",
    "\n",
    "\n",
    "\n",
    "    def on_epoch_end(self):\n",
    "\n",
    "        \"\"\"Shuffle private numpy array on every epoch end.\"\"\"\n",
    "\n",
    "        state = np.random.RandomState(seed=self._seed + self._elapsed_epochs)\n",
    "\n",
    "        self._elapsed_epochs += 1\n",
    "\n",
    "        state.shuffle(self._array)\n",
    "\n",
    "\n",
    "\n",
    "    def __len__(self) -> int:\n",
    "\n",
    "        \"\"\"Return length of Sequence.\"\"\"\n",
    "\n",
    "        return sequence_length(\n",
    "\n",
    "            self._array,\n",
    "\n",
    "            self._batch_size\n",
    "\n",
    "        )\n",
    "\n",
    "\n",
    "\n",
    "    def __getitem__(self, idx: int) -> np.ndarray:\n",
    "\n",
    "        \"\"\"Return batch corresponding to given index.\n",
    "\n",
    "\n",
    "\n",
    "        Parameters\n",
    "\n",
    "        ---------------\n",
    "\n",
    "        idx: int,\n",
    "\n",
    "            Index corresponding to batch to be rendered.\n",
    "\n",
    "\n",
    "\n",
    "        Returns\n",
    "\n",
    "        ---------------\n",
    "\n",
    "        Return numpy array corresponding to given batch index.\n",
    "\n",
    "        \"\"\"\n",
    "\n",
    "        return self._array[batch_slice(idx, self._batch_size)]\n",
    "\n",
    "\n",
    "\n",
    "\n",
    "class MixedSequence(Sequence):\n",
    "\n",
    "    \"\"\"Handles Mixed type input / output Sequences.\n",
    "\n",
    "\n",
    "\n",
    "    Usage examples\n",
    "\n",
    "    -----------------------------\n",
    "\n",
    "    \"\"\"\n",
    "\n",
    "\n",
    "\n",
    "    def __init__(\n",
    "\n",
    "        self,\n",
    "\n",
    "        x: Union[Dict[str, Union[np.ndarray, Sequence]], np.ndarray, Sequence],\n",
    "\n",
    "        y: Union[Dict[str, Union[np.ndarray, Sequence]], np.ndarray, Sequence],\n",
    "\n",
    "        batch_size: int\n",
    "\n",
    "    ):\n",
    "\n",
    "     \n",
    "\n",
    "        # Casting to dictionary if not one already\n",
    "\n",
    "        x, y = [\n",
    "\n",
    "            e if isinstance(e, Dict) else {0: e}\n",
    "\n",
    "            for e in (x, y)\n",
    "\n",
    "        ]\n",
    "\n",
    "\n",
    "\n",
    "        # Retrieving sequence length\n",
    "\n",
    "        self._sequence_length = None\n",
    "\n",
    "        self._batch_size = batch_size\n",
    "\n",
    "        for candidate in (*x.values(), *y.values()):\n",
    "\n",
    "            if isinstance(candidate, Sequence):\n",
    "\n",
    "                self._sequence_length = len(candidate)\n",
    "\n",
    "                break\n",
    "\n",
    "\n",
    "\n",
    "        # Veryfing that at least a sequence was provided\n",
    "\n",
    "        if self._sequence_length is None:\n",
    "\n",
    "            raise ValueError(\"No Sequence was provided.\")\n",
    "\n",
    "\n",
    "\n",
    "        # Converting numpy arrays to Numpy Sequences\n",
    "\n",
    "        x, y = [\n",
    "\n",
    "            {\n",
    "\n",
    "                key: NumpySequence(candidate, batch_size) if isinstance(\n",
    "\n",
    "                    candidate, np.ndarray) else candidate\n",
    "\n",
    "                for key, candidate in dictionary.items()\n",
    "\n",
    "            }\n",
    "\n",
    "            for dictionary in (x, y)\n",
    "\n",
    "        ]\n",
    "\n",
    "\n",
    "\n",
    "        # Checking that every value within the dictionaries\n",
    "\n",
    "        # is now a sequence with the same length.\n",
    "\n",
    "        for dictionary in (x, y):\n",
    "\n",
    "            for _, value in dictionary.items():\n",
    "\n",
    "                if len(self) != len(value):\n",
    "\n",
    "                    raise ValueError(\n",
    "\n",
    "                        \"One or given sub-Sequence does not match length of other Sequences.\"\n",
    "\n",
    "                    )\n",
    "\n",
    "\n",
    "\n",
    "        self._x, self._y = x, y\n",
    "\n",
    "\n",
    "\n",
    "    def on_epoch_end(self):\n",
    "\n",
    "        \"\"\"Call on_epoch_end callback on every sub-sequence.\"\"\"\n",
    "\n",
    "        for dictionary in (self._x, self._y):\n",
    "\n",
    "            for _, value in dictionary.items():\n",
    "\n",
    "                value.on_epoch_end()\n",
    "\n",
    "\n",
    "\n",
    "    def __len__(self) -> int:\n",
    "\n",
    "        \"\"\"Return length of Sequence.\"\"\"\n",
    "\n",
    "        return self._sequence_length\n",
    "\n",
    "\n",
    "\n",
    "    @property\n",
    "\n",
    "    def steps_per_epoch(self) -> int:\n",
    "\n",
    "        \"\"\"Return length of Sequence.\"\"\"\n",
    "\n",
    "        return len(self)\n",
    "\n",
    "\n",
    "\n",
    "    def __getitem__(self, idx: int) -> Tuple[\n",
    "\n",
    "        Union[np.ndarray, Dict],\n",
    "\n",
    "        Union[np.ndarray, Dict]\n",
    "\n",
    "    ]:\n",
    "\n",
    "        \"\"\"Return batch corresponding to given index.\n",
    "\n",
    "\n",
    "\n",
    "        Parameters\n",
    "\n",
    "        ---------------\n",
    "\n",
    "        idx: int,\n",
    "\n",
    "            Index corresponding to batch to be rendered.\n",
    "\n",
    "\n",
    "\n",
    "        Returns\n",
    "\n",
    "        ---------------\n",
    "\n",
    "        Return Tuple containing input and output batches.\n",
    "\n",
    "        \"\"\"\n",
    "\n",
    "        return tuple([\n",
    "\n",
    "            {\n",
    "\n",
    "                key: sequence[idx]\n",
    "\n",
    "                for key, sequence in dictionary.items()\n",
    "\n",
    "            } if len(dictionary) > 1 else next(iter(dictionary.values()))[idx]\n",
    "\n",
    "            for dictionary in [\n",
    "\n",
    "                self._x,\n",
    "\n",
    "                self._y\n",
    "\n",
    "            ]\n",
    "\n",
    "        ] + (\n",
    "\n",
    "            []\n",
    "\n",
    "            if tf.__version__.startswith(\"1.14\")\n",
    "\n",
    "            else\n",
    "\n",
    "            [{key: None for key in self._y}]\n",
    "\n",
    "        ))"
   ]
  },
  {
   "cell_type": "code",
   "execution_count": 28,
   "metadata": {},
   "outputs": [],
   "source": [
    "from ucsc_genomes_downloader import Genome\n",
    "from keras_bed_sequence import BedSequence\n",
    "#from keras_mixed_sequence import MixedSequence\n",
    "from tensorflow.keras.utils import Sequence\n",
    "\n",
    "\n",
    "def get_holdout(train:np.ndarray, test:np.ndarray, bed:pd.DataFrame, labels:np.ndarray, genome:genome, batch_size=1024)->Tuple[Sequence, Sequence]:\n",
    "    return (\n",
    "        MixedSequence(\n",
    "            x=BedSequence(genome, bed.iloc[train], batch_size=batch_size),\n",
    "            y=labels[train],\n",
    "            batch_size=batch_size\n",
    "        ),\n",
    "        MixedSequence(\n",
    "            x= BedSequence(genome, bed.iloc[test], batch_size=batch_size),\n",
    "            y=labels[test],\n",
    "            batch_size=batch_size #batch_size maggiori, risultati + veloci\n",
    "        )\n",
    "    )"
   ]
  },
  {
   "cell_type": "code",
   "execution_count": 29,
   "metadata": {},
   "outputs": [],
   "source": [
    "## from sklearn.model_selection import StratifiedShuffleSplit\n",
    "\n",
    "splits = 10 #da testare un numero diverso di split\n",
    "holdouts = StratifiedShuffleSplit(n_splits=splits, test_size=0.2, random_state=42)\n"
   ]
  },
  {
   "cell_type": "code",
   "execution_count": 30,
   "metadata": {},
   "outputs": [],
   "source": [
    "from sklearn.metrics import accuracy_score, balanced_accuracy_score, roc_auc_score, average_precision_score\n",
    "from sanitize_ml_labels import sanitize_ml_labels\n",
    "import numpy as np\n",
    "\n",
    "def report(y_true:np.ndarray, y_pred:np.ndarray)->np.ndarray:\n",
    "    integer_metrics = accuracy_score, balanced_accuracy_score\n",
    "    float_metrics = roc_auc_score, average_precision_score\n",
    "    results1 = {\n",
    "        sanitize_ml_labels(metric.__name__): metric(y_true, np.round(y_pred))\n",
    "        for metric in integer_metrics\n",
    "    }\n",
    "    results2 = {\n",
    "        sanitize_ml_labels(metric.__name__): metric(y_true, y_pred)\n",
    "        for metric in float_metrics\n",
    "    }\n",
    "    return {\n",
    "        **results1,\n",
    "        **results2\n",
    "    }\n",
    "\n",
    "#si usano solo per categorizzazione, non hanno senso per regressione\n",
    "# auroc: area sotto la curva di Receiver operating characteristic: analizza falsi positivi e negativi\n",
    "# valore minimo è 0.5 (non impara niente)  valore massimo è 1 (modello perfetto)\n",
    "# auprc: area sotto la curva di precision recall: va a computare per diversi treashold di precisioni diversi, la somma delle aree\n",
    "#sottese sotto i diversi traingolini della precision-reacall. Un modello che non impara nulla ha AUPRC = 0 e un modello perfetto ha\n",
    "# AUPRC = 1"
   ]
  },
  {
   "cell_type": "code",
   "execution_count": 31,
   "metadata": {},
   "outputs": [],
   "source": [
    "def precomputed(results, model:str, holdout:int)->bool:\n",
    "    df = pd.DataFrame(results)\n",
    "    if df.empty:\n",
    "        return False\n",
    "    return (\n",
    "        (df.model == model) &\n",
    "        (df.holdout == holdout)\n",
    "    ).any()"
   ]
  },
  {
   "cell_type": "code",
   "execution_count": null,
   "metadata": {},
   "outputs": [],
   "source": []
  },
  {
   "cell_type": "code",
   "execution_count": 32,
   "metadata": {},
   "outputs": [
    {
     "name": "stdout",
     "output_type": "stream",
     "text": [
      "Model: \"CNN\"\n",
      "_________________________________________________________________\n",
      "Layer (type)                 Output Shape              Param #   \n",
      "=================================================================\n",
      "reshape (Reshape)            (None, 200, 4, 1)         0         \n",
      "_________________________________________________________________\n",
      "conv2d (Conv2D)              (None, 191, 3, 64)        1344      \n",
      "_________________________________________________________________\n",
      "batch_normalization_4 (Batch (None, 191, 3, 64)        256       \n",
      "_________________________________________________________________\n",
      "conv2d_1 (Conv2D)            (None, 187, 2, 64)        41024     \n",
      "_________________________________________________________________\n",
      "batch_normalization_5 (Batch (None, 187, 2, 64)        256       \n",
      "_________________________________________________________________\n",
      "max_pooling2d (MaxPooling2D) (None, 93, 1, 64)         0         \n",
      "_________________________________________________________________\n",
      "conv2d_2 (Conv2D)            (None, 84, 1, 32)         20512     \n",
      "_________________________________________________________________\n",
      "batch_normalization_6 (Batch (None, 84, 1, 32)         128       \n",
      "_________________________________________________________________\n",
      "flatten_2 (Flatten)          (None, 2688)              0         \n",
      "_________________________________________________________________\n",
      "dense_28 (Dense)             (None, 32)                86048     \n",
      "_________________________________________________________________\n",
      "dropout_1 (Dropout)          (None, 32)                0         \n",
      "_________________________________________________________________\n",
      "dense_29 (Dense)             (None, 32)                1056      \n",
      "_________________________________________________________________\n",
      "dropout_2 (Dropout)          (None, 32)                0         \n",
      "_________________________________________________________________\n",
      "dense_30 (Dense)             (None, 1)                 33        \n",
      "=================================================================\n",
      "Total params: 150,657\n",
      "Trainable params: 150,337\n",
      "Non-trainable params: 320\n",
      "_________________________________________________________________\n",
      "Model: \"MLP\"\n",
      "_________________________________________________________________\n",
      "Layer (type)                 Output Shape              Param #   \n",
      "=================================================================\n",
      "flatten (Flatten)            (None, 800)               0         \n",
      "_________________________________________________________________\n",
      "dense_21 (Dense)             (None, 64)                51264     \n",
      "_________________________________________________________________\n",
      "dense_22 (Dense)             (None, 32)                2080      \n",
      "_________________________________________________________________\n",
      "dense_31 (Dense)             (None, 1)                 33        \n",
      "=================================================================\n",
      "Total params: 53,377\n",
      "Trainable params: 53,377\n",
      "Non-trainable params: 0\n",
      "_________________________________________________________________\n",
      "Model: \"FFNN\"\n",
      "_________________________________________________________________\n",
      "Layer (type)                 Output Shape              Param #   \n",
      "=================================================================\n",
      "flatten_1 (Flatten)          (None, 800)               0         \n",
      "_________________________________________________________________\n",
      "dense_23 (Dense)             (None, 256)               205056    \n",
      "_________________________________________________________________\n",
      "dense_24 (Dense)             (None, 128)               32896     \n",
      "_________________________________________________________________\n",
      "batch_normalization_3 (Batch (None, 128)               512       \n",
      "_________________________________________________________________\n",
      "thresholded_re_lu_2 (Thresho (None, 128)               0         \n",
      "_________________________________________________________________\n",
      "dense_25 (Dense)             (None, 64)                8256      \n",
      "_________________________________________________________________\n",
      "alpha_dropout_2 (AlphaDropou (None, 64)                0         \n",
      "_________________________________________________________________\n",
      "dense_26 (Dense)             (None, 32)                2080      \n",
      "_________________________________________________________________\n",
      "dense_27 (Dense)             (None, 16)                528       \n",
      "_________________________________________________________________\n",
      "dense_32 (Dense)             (None, 1)                 17        \n",
      "=================================================================\n",
      "Total params: 249,345\n",
      "Trainable params: 249,089\n",
      "Non-trainable params: 256\n",
      "_________________________________________________________________\n"
     ]
    }
   ],
   "source": [
    "models=[]\n",
    "\n",
    "models.append(Model.CNN_Seq(shape,name=\"CNN\"))\n",
    "models.append(Model.MLP_Seq(shape,name=\"MLP\"))\n",
    "models.append(Model.FFNN_Seq(shape,name=\"FFNN\"))"
   ]
  },
  {
   "cell_type": "code",
   "execution_count": 33,
   "metadata": {},
   "outputs": [],
   "source": [
    "from tqdm.auto import tqdm\n",
    "import pandas as pd"
   ]
  },
  {
   "cell_type": "code",
   "execution_count": 34,
   "metadata": {},
   "outputs": [
    {
     "data": {
      "text/plain": [
       "[]"
      ]
     },
     "execution_count": 34,
     "metadata": {},
     "output_type": "execute_result"
    }
   ],
   "source": [
    "gpus = tf.config.experimental.list_physical_devices('XLA_GPU')\n",
    "gpus"
   ]
  },
  {
   "cell_type": "code",
   "execution_count": 35,
   "metadata": {
    "scrolled": false
   },
   "outputs": [
    {
     "data": {
      "application/vnd.jupyter.widget-view+json": {
       "model_id": "1523dfc3216144b99e53372446172cbe",
       "version_major": 2,
       "version_minor": 0
      },
      "text/plain": [
       "HBox(children=(FloatProgress(value=0.0, description='Computing holdouts', layout=Layout(flex='2'), max=10.0, s…"
      ]
     },
     "metadata": {},
     "output_type": "display_data"
    },
    {
     "data": {
      "application/vnd.jupyter.widget-view+json": {
       "model_id": "",
       "version_major": 2,
       "version_minor": 0
      },
      "text/plain": [
       "HBox(children=(FloatProgress(value=0.0, description='Rendering sequences in C:\\\\Users\\\\matte\\\\Desktop\\\\Bioinfo…"
      ]
     },
     "metadata": {},
     "output_type": "display_data"
    },
    {
     "data": {
      "application/vnd.jupyter.widget-view+json": {
       "model_id": "",
       "version_major": 2,
       "version_minor": 0
      },
      "text/plain": [
       "HBox(children=(FloatProgress(value=0.0, description='Converting nucleotides to numeric classes', layout=Layout…"
      ]
     },
     "metadata": {},
     "output_type": "display_data"
    },
    {
     "data": {
      "application/vnd.jupyter.widget-view+json": {
       "model_id": "",
       "version_major": 2,
       "version_minor": 0
      },
      "text/plain": [
       "HBox(children=(FloatProgress(value=0.0, description='Rendering sequences in C:\\\\Users\\\\matte\\\\Desktop\\\\Bioinfo…"
      ]
     },
     "metadata": {},
     "output_type": "display_data"
    },
    {
     "data": {
      "application/vnd.jupyter.widget-view+json": {
       "model_id": "",
       "version_major": 2,
       "version_minor": 0
      },
      "text/plain": [
       "HBox(children=(FloatProgress(value=0.0, description='Converting nucleotides to numeric classes', layout=Layout…"
      ]
     },
     "metadata": {},
     "output_type": "display_data"
    },
    {
     "data": {
      "application/vnd.jupyter.widget-view+json": {
       "model_id": "",
       "version_major": 2,
       "version_minor": 0
      },
      "text/plain": [
       "HBox(children=(FloatProgress(value=0.0, description='Training models', layout=Layout(flex='2'), max=3.0, style…"
      ]
     },
     "metadata": {},
     "output_type": "display_data"
    },
    {
     "data": {
      "application/vnd.jupyter.widget-view+json": {
       "model_id": "",
       "version_major": 2,
       "version_minor": 0
      },
      "text/plain": [
       "HBox(children=(FloatProgress(value=0.0, description='Rendering sequences in C:\\\\Users\\\\matte\\\\Desktop\\\\Bioinfo…"
      ]
     },
     "metadata": {},
     "output_type": "display_data"
    },
    {
     "data": {
      "application/vnd.jupyter.widget-view+json": {
       "model_id": "",
       "version_major": 2,
       "version_minor": 0
      },
      "text/plain": [
       "HBox(children=(FloatProgress(value=0.0, description='Converting nucleotides to numeric classes', layout=Layout…"
      ]
     },
     "metadata": {},
     "output_type": "display_data"
    },
    {
     "data": {
      "application/vnd.jupyter.widget-view+json": {
       "model_id": "",
       "version_major": 2,
       "version_minor": 0
      },
      "text/plain": [
       "HBox(children=(FloatProgress(value=0.0, description='Rendering sequences in C:\\\\Users\\\\matte\\\\Desktop\\\\Bioinfo…"
      ]
     },
     "metadata": {},
     "output_type": "display_data"
    },
    {
     "data": {
      "application/vnd.jupyter.widget-view+json": {
       "model_id": "",
       "version_major": 2,
       "version_minor": 0
      },
      "text/plain": [
       "HBox(children=(FloatProgress(value=0.0, description='Converting nucleotides to numeric classes', layout=Layout…"
      ]
     },
     "metadata": {},
     "output_type": "display_data"
    },
    {
     "data": {
      "application/vnd.jupyter.widget-view+json": {
       "model_id": "",
       "version_major": 2,
       "version_minor": 0
      },
      "text/plain": [
       "HBox(children=(FloatProgress(value=0.0, description='Training models', layout=Layout(flex='2'), max=3.0, style…"
      ]
     },
     "metadata": {},
     "output_type": "display_data"
    },
    {
     "data": {
      "application/vnd.jupyter.widget-view+json": {
       "model_id": "",
       "version_major": 2,
       "version_minor": 0
      },
      "text/plain": [
       "HBox(children=(FloatProgress(value=0.0, description='Rendering sequences in C:\\\\Users\\\\matte\\\\Desktop\\\\Bioinfo…"
      ]
     },
     "metadata": {},
     "output_type": "display_data"
    },
    {
     "data": {
      "application/vnd.jupyter.widget-view+json": {
       "model_id": "",
       "version_major": 2,
       "version_minor": 0
      },
      "text/plain": [
       "HBox(children=(FloatProgress(value=0.0, description='Converting nucleotides to numeric classes', layout=Layout…"
      ]
     },
     "metadata": {},
     "output_type": "display_data"
    },
    {
     "data": {
      "application/vnd.jupyter.widget-view+json": {
       "model_id": "",
       "version_major": 2,
       "version_minor": 0
      },
      "text/plain": [
       "HBox(children=(FloatProgress(value=0.0, description='Rendering sequences in C:\\\\Users\\\\matte\\\\Desktop\\\\Bioinfo…"
      ]
     },
     "metadata": {},
     "output_type": "display_data"
    },
    {
     "data": {
      "application/vnd.jupyter.widget-view+json": {
       "model_id": "",
       "version_major": 2,
       "version_minor": 0
      },
      "text/plain": [
       "HBox(children=(FloatProgress(value=0.0, description='Converting nucleotides to numeric classes', layout=Layout…"
      ]
     },
     "metadata": {},
     "output_type": "display_data"
    },
    {
     "data": {
      "application/vnd.jupyter.widget-view+json": {
       "model_id": "",
       "version_major": 2,
       "version_minor": 0
      },
      "text/plain": [
       "HBox(children=(FloatProgress(value=0.0, description='Training models', layout=Layout(flex='2'), max=3.0, style…"
      ]
     },
     "metadata": {},
     "output_type": "display_data"
    },
    {
     "data": {
      "application/vnd.jupyter.widget-view+json": {
       "model_id": "",
       "version_major": 2,
       "version_minor": 0
      },
      "text/plain": [
       "HBox(children=(FloatProgress(value=0.0, description='Rendering sequences in C:\\\\Users\\\\matte\\\\Desktop\\\\Bioinfo…"
      ]
     },
     "metadata": {},
     "output_type": "display_data"
    },
    {
     "data": {
      "application/vnd.jupyter.widget-view+json": {
       "model_id": "",
       "version_major": 2,
       "version_minor": 0
      },
      "text/plain": [
       "HBox(children=(FloatProgress(value=0.0, description='Converting nucleotides to numeric classes', layout=Layout…"
      ]
     },
     "metadata": {},
     "output_type": "display_data"
    },
    {
     "data": {
      "application/vnd.jupyter.widget-view+json": {
       "model_id": "",
       "version_major": 2,
       "version_minor": 0
      },
      "text/plain": [
       "HBox(children=(FloatProgress(value=0.0, description='Rendering sequences in C:\\\\Users\\\\matte\\\\Desktop\\\\Bioinfo…"
      ]
     },
     "metadata": {},
     "output_type": "display_data"
    },
    {
     "data": {
      "application/vnd.jupyter.widget-view+json": {
       "model_id": "",
       "version_major": 2,
       "version_minor": 0
      },
      "text/plain": [
       "HBox(children=(FloatProgress(value=0.0, description='Converting nucleotides to numeric classes', layout=Layout…"
      ]
     },
     "metadata": {},
     "output_type": "display_data"
    },
    {
     "data": {
      "application/vnd.jupyter.widget-view+json": {
       "model_id": "",
       "version_major": 2,
       "version_minor": 0
      },
      "text/plain": [
       "HBox(children=(FloatProgress(value=0.0, description='Training models', layout=Layout(flex='2'), max=3.0, style…"
      ]
     },
     "metadata": {},
     "output_type": "display_data"
    },
    {
     "data": {
      "application/vnd.jupyter.widget-view+json": {
       "model_id": "",
       "version_major": 2,
       "version_minor": 0
      },
      "text/plain": [
       "HBox(children=(FloatProgress(value=0.0, description='Rendering sequences in C:\\\\Users\\\\matte\\\\Desktop\\\\Bioinfo…"
      ]
     },
     "metadata": {},
     "output_type": "display_data"
    },
    {
     "data": {
      "application/vnd.jupyter.widget-view+json": {
       "model_id": "",
       "version_major": 2,
       "version_minor": 0
      },
      "text/plain": [
       "HBox(children=(FloatProgress(value=0.0, description='Converting nucleotides to numeric classes', layout=Layout…"
      ]
     },
     "metadata": {},
     "output_type": "display_data"
    },
    {
     "data": {
      "application/vnd.jupyter.widget-view+json": {
       "model_id": "",
       "version_major": 2,
       "version_minor": 0
      },
      "text/plain": [
       "HBox(children=(FloatProgress(value=0.0, description='Rendering sequences in C:\\\\Users\\\\matte\\\\Desktop\\\\Bioinfo…"
      ]
     },
     "metadata": {},
     "output_type": "display_data"
    },
    {
     "data": {
      "application/vnd.jupyter.widget-view+json": {
       "model_id": "",
       "version_major": 2,
       "version_minor": 0
      },
      "text/plain": [
       "HBox(children=(FloatProgress(value=0.0, description='Converting nucleotides to numeric classes', layout=Layout…"
      ]
     },
     "metadata": {},
     "output_type": "display_data"
    },
    {
     "data": {
      "application/vnd.jupyter.widget-view+json": {
       "model_id": "",
       "version_major": 2,
       "version_minor": 0
      },
      "text/plain": [
       "HBox(children=(FloatProgress(value=0.0, description='Training models', layout=Layout(flex='2'), max=3.0, style…"
      ]
     },
     "metadata": {},
     "output_type": "display_data"
    },
    {
     "data": {
      "application/vnd.jupyter.widget-view+json": {
       "model_id": "",
       "version_major": 2,
       "version_minor": 0
      },
      "text/plain": [
       "HBox(children=(FloatProgress(value=0.0, description='Rendering sequences in C:\\\\Users\\\\matte\\\\Desktop\\\\Bioinfo…"
      ]
     },
     "metadata": {},
     "output_type": "display_data"
    },
    {
     "data": {
      "application/vnd.jupyter.widget-view+json": {
       "model_id": "",
       "version_major": 2,
       "version_minor": 0
      },
      "text/plain": [
       "HBox(children=(FloatProgress(value=0.0, description='Converting nucleotides to numeric classes', layout=Layout…"
      ]
     },
     "metadata": {},
     "output_type": "display_data"
    },
    {
     "data": {
      "application/vnd.jupyter.widget-view+json": {
       "model_id": "",
       "version_major": 2,
       "version_minor": 0
      },
      "text/plain": [
       "HBox(children=(FloatProgress(value=0.0, description='Rendering sequences in C:\\\\Users\\\\matte\\\\Desktop\\\\Bioinfo…"
      ]
     },
     "metadata": {},
     "output_type": "display_data"
    },
    {
     "data": {
      "application/vnd.jupyter.widget-view+json": {
       "model_id": "",
       "version_major": 2,
       "version_minor": 0
      },
      "text/plain": [
       "HBox(children=(FloatProgress(value=0.0, description='Converting nucleotides to numeric classes', layout=Layout…"
      ]
     },
     "metadata": {},
     "output_type": "display_data"
    },
    {
     "data": {
      "application/vnd.jupyter.widget-view+json": {
       "model_id": "",
       "version_major": 2,
       "version_minor": 0
      },
      "text/plain": [
       "HBox(children=(FloatProgress(value=0.0, description='Training models', layout=Layout(flex='2'), max=3.0, style…"
      ]
     },
     "metadata": {},
     "output_type": "display_data"
    },
    {
     "data": {
      "application/vnd.jupyter.widget-view+json": {
       "model_id": "",
       "version_major": 2,
       "version_minor": 0
      },
      "text/plain": [
       "HBox(children=(FloatProgress(value=0.0, description='Rendering sequences in C:\\\\Users\\\\matte\\\\Desktop\\\\Bioinfo…"
      ]
     },
     "metadata": {},
     "output_type": "display_data"
    },
    {
     "data": {
      "application/vnd.jupyter.widget-view+json": {
       "model_id": "",
       "version_major": 2,
       "version_minor": 0
      },
      "text/plain": [
       "HBox(children=(FloatProgress(value=0.0, description='Converting nucleotides to numeric classes', layout=Layout…"
      ]
     },
     "metadata": {},
     "output_type": "display_data"
    },
    {
     "data": {
      "application/vnd.jupyter.widget-view+json": {
       "model_id": "",
       "version_major": 2,
       "version_minor": 0
      },
      "text/plain": [
       "HBox(children=(FloatProgress(value=0.0, description='Rendering sequences in C:\\\\Users\\\\matte\\\\Desktop\\\\Bioinfo…"
      ]
     },
     "metadata": {},
     "output_type": "display_data"
    },
    {
     "data": {
      "application/vnd.jupyter.widget-view+json": {
       "model_id": "",
       "version_major": 2,
       "version_minor": 0
      },
      "text/plain": [
       "HBox(children=(FloatProgress(value=0.0, description='Converting nucleotides to numeric classes', layout=Layout…"
      ]
     },
     "metadata": {},
     "output_type": "display_data"
    },
    {
     "data": {
      "application/vnd.jupyter.widget-view+json": {
       "model_id": "",
       "version_major": 2,
       "version_minor": 0
      },
      "text/plain": [
       "HBox(children=(FloatProgress(value=0.0, description='Training models', layout=Layout(flex='2'), max=3.0, style…"
      ]
     },
     "metadata": {},
     "output_type": "display_data"
    },
    {
     "data": {
      "application/vnd.jupyter.widget-view+json": {
       "model_id": "",
       "version_major": 2,
       "version_minor": 0
      },
      "text/plain": [
       "HBox(children=(FloatProgress(value=0.0, description='Rendering sequences in C:\\\\Users\\\\matte\\\\Desktop\\\\Bioinfo…"
      ]
     },
     "metadata": {},
     "output_type": "display_data"
    },
    {
     "data": {
      "application/vnd.jupyter.widget-view+json": {
       "model_id": "",
       "version_major": 2,
       "version_minor": 0
      },
      "text/plain": [
       "HBox(children=(FloatProgress(value=0.0, description='Converting nucleotides to numeric classes', layout=Layout…"
      ]
     },
     "metadata": {},
     "output_type": "display_data"
    },
    {
     "data": {
      "application/vnd.jupyter.widget-view+json": {
       "model_id": "",
       "version_major": 2,
       "version_minor": 0
      },
      "text/plain": [
       "HBox(children=(FloatProgress(value=0.0, description='Rendering sequences in C:\\\\Users\\\\matte\\\\Desktop\\\\Bioinfo…"
      ]
     },
     "metadata": {},
     "output_type": "display_data"
    },
    {
     "data": {
      "application/vnd.jupyter.widget-view+json": {
       "model_id": "",
       "version_major": 2,
       "version_minor": 0
      },
      "text/plain": [
       "HBox(children=(FloatProgress(value=0.0, description='Converting nucleotides to numeric classes', layout=Layout…"
      ]
     },
     "metadata": {},
     "output_type": "display_data"
    },
    {
     "data": {
      "application/vnd.jupyter.widget-view+json": {
       "model_id": "",
       "version_major": 2,
       "version_minor": 0
      },
      "text/plain": [
       "HBox(children=(FloatProgress(value=0.0, description='Training models', layout=Layout(flex='2'), max=3.0, style…"
      ]
     },
     "metadata": {},
     "output_type": "display_data"
    },
    {
     "data": {
      "application/vnd.jupyter.widget-view+json": {
       "model_id": "",
       "version_major": 2,
       "version_minor": 0
      },
      "text/plain": [
       "HBox(children=(FloatProgress(value=0.0, description='Rendering sequences in C:\\\\Users\\\\matte\\\\Desktop\\\\Bioinfo…"
      ]
     },
     "metadata": {},
     "output_type": "display_data"
    },
    {
     "data": {
      "application/vnd.jupyter.widget-view+json": {
       "model_id": "",
       "version_major": 2,
       "version_minor": 0
      },
      "text/plain": [
       "HBox(children=(FloatProgress(value=0.0, description='Converting nucleotides to numeric classes', layout=Layout…"
      ]
     },
     "metadata": {},
     "output_type": "display_data"
    },
    {
     "data": {
      "application/vnd.jupyter.widget-view+json": {
       "model_id": "",
       "version_major": 2,
       "version_minor": 0
      },
      "text/plain": [
       "HBox(children=(FloatProgress(value=0.0, description='Rendering sequences in C:\\\\Users\\\\matte\\\\Desktop\\\\Bioinfo…"
      ]
     },
     "metadata": {},
     "output_type": "display_data"
    },
    {
     "data": {
      "application/vnd.jupyter.widget-view+json": {
       "model_id": "",
       "version_major": 2,
       "version_minor": 0
      },
      "text/plain": [
       "HBox(children=(FloatProgress(value=0.0, description='Converting nucleotides to numeric classes', layout=Layout…"
      ]
     },
     "metadata": {},
     "output_type": "display_data"
    },
    {
     "data": {
      "application/vnd.jupyter.widget-view+json": {
       "model_id": "",
       "version_major": 2,
       "version_minor": 0
      },
      "text/plain": [
       "HBox(children=(FloatProgress(value=0.0, description='Training models', layout=Layout(flex='2'), max=3.0, style…"
      ]
     },
     "metadata": {},
     "output_type": "display_data"
    },
    {
     "data": {
      "application/vnd.jupyter.widget-view+json": {
       "model_id": "",
       "version_major": 2,
       "version_minor": 0
      },
      "text/plain": [
       "HBox(children=(FloatProgress(value=0.0, description='Rendering sequences in C:\\\\Users\\\\matte\\\\Desktop\\\\Bioinfo…"
      ]
     },
     "metadata": {},
     "output_type": "display_data"
    },
    {
     "data": {
      "application/vnd.jupyter.widget-view+json": {
       "model_id": "",
       "version_major": 2,
       "version_minor": 0
      },
      "text/plain": [
       "HBox(children=(FloatProgress(value=0.0, description='Converting nucleotides to numeric classes', layout=Layout…"
      ]
     },
     "metadata": {},
     "output_type": "display_data"
    },
    {
     "data": {
      "application/vnd.jupyter.widget-view+json": {
       "model_id": "",
       "version_major": 2,
       "version_minor": 0
      },
      "text/plain": [
       "HBox(children=(FloatProgress(value=0.0, description='Rendering sequences in C:\\\\Users\\\\matte\\\\Desktop\\\\Bioinfo…"
      ]
     },
     "metadata": {},
     "output_type": "display_data"
    },
    {
     "data": {
      "application/vnd.jupyter.widget-view+json": {
       "model_id": "",
       "version_major": 2,
       "version_minor": 0
      },
      "text/plain": [
       "HBox(children=(FloatProgress(value=0.0, description='Converting nucleotides to numeric classes', layout=Layout…"
      ]
     },
     "metadata": {},
     "output_type": "display_data"
    },
    {
     "data": {
      "application/vnd.jupyter.widget-view+json": {
       "model_id": "",
       "version_major": 2,
       "version_minor": 0
      },
      "text/plain": [
       "HBox(children=(FloatProgress(value=0.0, description='Training models', layout=Layout(flex='2'), max=3.0, style…"
      ]
     },
     "metadata": {},
     "output_type": "display_data"
    },
    {
     "name": "stdout",
     "output_type": "stream",
     "text": [
      "\n"
     ]
    }
   ],
   "source": [
    "import json\n",
    "import compress_json\n",
    "#if os.path.exists(\"results1.json\"):\n",
    " #   with open('results.json') as json_file:\n",
    "#        results = json.load(json_file)\n",
    "#else:\n",
    "results = []\n",
    "    \n",
    "for i, (train_index, test_index) in tqdm(enumerate(holdouts.split(sequences, y)), total=splits, desc=\"Computing holdouts\", dynamic_ncols=True):\n",
    "    train, test = get_holdout(train_index, test_index, sequences, y, genome)\n",
    "    for model in tqdm(models, total=len(models), desc=\"Training models\", leave=False, dynamic_ncols=True):\n",
    "        if precomputed(results, model.name, i):\n",
    "            continue\n",
    "        history = model.model.fit(\n",
    "            train,\n",
    "            steps_per_epoch=train.steps_per_epoch,\n",
    "            validation_data=test,\n",
    "            validation_steps=test.steps_per_epoch,\n",
    "            epochs=100,\n",
    "            shuffle=True,\n",
    "            verbose=False,\n",
    "            callbacks=[\n",
    "                EarlyStopping(monitor=\"val_loss\", mode=\"min\", patience=50),\n",
    "            ]\n",
    "        ).history\n",
    "        scores = pd.DataFrame(history).iloc[-1].to_dict()\n",
    "        results.append({\n",
    "            \"model\":model.name,\n",
    "            \"run_type\":\"train\",\n",
    "            \"holdout\":i,\n",
    "            **{\n",
    "                key:value\n",
    "                for key, value in scores.items()\n",
    "                if not key.startswith(\"val_\")\n",
    "            }\n",
    "        })\n",
    "        results.append({\n",
    "            \"model\":model.name,\n",
    "            \"run_type\":\"test\",\n",
    "            \"holdout\":i,\n",
    "            **{\n",
    "                key[4:]:value\n",
    "                for key, value in scores.items()\n",
    "                if key.startswith(\"val_\")\n",
    "            }\n",
    "        })\n",
    "        compress_json.local_dump(results,  f\"results_{cell_line}_{regions}.json\")"
   ]
  },
  {
   "cell_type": "code",
   "execution_count": 36,
   "metadata": {},
   "outputs": [
    {
     "data": {
      "application/vnd.jupyter.widget-view+json": {
       "model_id": "2693cf526924442eac2d031b79955396",
       "version_major": 2,
       "version_minor": 0
      },
      "text/plain": [
       "HBox(children=(FloatProgress(value=0.0, description='Rendering barplots', layout=Layout(flex='2'), max=4.0, st…"
      ]
     },
     "metadata": {},
     "output_type": "display_data"
    },
    {
     "name": "stdout",
     "output_type": "stream",
     "text": [
      "\n"
     ]
    },
    {
     "data": {
      "image/png": "[encoded data removed]",
      "text/plain": [
       "<PIL.PngImagePlugin.PngImageFile image mode=RGBA size=980x459 at 0x1C7EB9B6288>"
      ]
     },
     "metadata": {},
     "output_type": "display_data"
    },
    {
     "data": {
      "image/png": "[encoded data removed]",
      "text/plain": [
       "<PIL.PngImagePlugin.PngImageFile image mode=RGBA size=980x459 at 0x1C7E94FD788>"
      ]
     },
     "metadata": {},
     "output_type": "display_data"
    },
    {
     "data": {
      "image/png": "[encoded data removed]",
      "text/plain": [
       "<PIL.PngImagePlugin.PngImageFile image mode=RGBA size=980x459 at 0x1C7EB9B6288>"
      ]
     },
     "metadata": {},
     "output_type": "display_data"
    },
    {
     "data": {
      "image/png": "[encoded data removed]",
      "text/plain": [
       "<PIL.PngImagePlugin.PngImageFile image mode=RGBA size=980x459 at 0x1C7EAC4D648>"
      ]
     },
     "metadata": {},
     "output_type": "display_data"
    }
   ],
   "source": [
    "from barplots import barplots\n",
    "df = pd.DataFrame(results)\n",
    "df = df.drop(columns=[\"holdout\"])\n",
    "df[:5]\n",
    "\n",
    "\n",
    "barplots(\n",
    "    df,\n",
    "    groupby=[\"model\", \"run_type\"],\n",
    "    show_legend=False,\n",
    "    height=5,\n",
    "    orientation=\"horizontal\"\n",
    ")\n",
    "\n",
    "from PIL import Image\n",
    "from glob import glob\n",
    "\n",
    "for x in glob(\"barplots/*.png\"):\n",
    "    display(Image.open(x))"
   ]
  },
  {
   "cell_type": "code",
   "execution_count": 37,
   "metadata": {},
   "outputs": [
    {
     "data": {
      "text/html": [
       "<div>\n",
       "<style scoped>\n",
       "    .dataframe tbody tr th:only-of-type {\n",
       "        vertical-align: middle;\n",
       "    }\n",
       "\n",
       "    .dataframe tbody tr th {\n",
       "        vertical-align: top;\n",
       "    }\n",
       "\n",
       "    .dataframe thead th {\n",
       "        text-align: right;\n",
       "    }\n",
       "</style>\n",
       "<table border=\"1\" class=\"dataframe\">\n",
       "  <thead>\n",
       "    <tr style=\"text-align: right;\">\n",
       "      <th></th>\n",
       "      <th>model</th>\n",
       "      <th>run_type</th>\n",
       "      <th>loss</th>\n",
       "      <th>acc</th>\n",
       "      <th>auroc</th>\n",
       "      <th>auprc</th>\n",
       "    </tr>\n",
       "  </thead>\n",
       "  <tbody>\n",
       "    <tr>\n",
       "      <th>0</th>\n",
       "      <td>CNN</td>\n",
       "      <td>train</td>\n",
       "      <td>0.040313</td>\n",
       "      <td>0.986224</td>\n",
       "      <td>0.997802</td>\n",
       "      <td>0.991274</td>\n",
       "    </tr>\n",
       "    <tr>\n",
       "      <th>1</th>\n",
       "      <td>CNN</td>\n",
       "      <td>test</td>\n",
       "      <td>2.380449</td>\n",
       "      <td>0.732747</td>\n",
       "      <td>0.509853</td>\n",
       "      <td>0.208326</td>\n",
       "    </tr>\n",
       "    <tr>\n",
       "      <th>2</th>\n",
       "      <td>MLP</td>\n",
       "      <td>train</td>\n",
       "      <td>0.028024</td>\n",
       "      <td>0.999159</td>\n",
       "      <td>0.999963</td>\n",
       "      <td>0.999894</td>\n",
       "    </tr>\n",
       "    <tr>\n",
       "      <th>3</th>\n",
       "      <td>MLP</td>\n",
       "      <td>test</td>\n",
       "      <td>1.770101</td>\n",
       "      <td>0.693695</td>\n",
       "      <td>0.510414</td>\n",
       "      <td>0.204506</td>\n",
       "    </tr>\n",
       "    <tr>\n",
       "      <th>4</th>\n",
       "      <td>FFNN</td>\n",
       "      <td>train</td>\n",
       "      <td>0.008040</td>\n",
       "      <td>0.997096</td>\n",
       "      <td>0.999764</td>\n",
       "      <td>0.999313</td>\n",
       "    </tr>\n",
       "    <tr>\n",
       "      <th>5</th>\n",
       "      <td>FFNN</td>\n",
       "      <td>test</td>\n",
       "      <td>4.901506</td>\n",
       "      <td>0.737333</td>\n",
       "      <td>0.501312</td>\n",
       "      <td>0.201244</td>\n",
       "    </tr>\n",
       "    <tr>\n",
       "      <th>6</th>\n",
       "      <td>CNN</td>\n",
       "      <td>train</td>\n",
       "      <td>0.090147</td>\n",
       "      <td>0.968340</td>\n",
       "      <td>0.989582</td>\n",
       "      <td>0.942471</td>\n",
       "    </tr>\n",
       "    <tr>\n",
       "      <th>7</th>\n",
       "      <td>CNN</td>\n",
       "      <td>test</td>\n",
       "      <td>2.052515</td>\n",
       "      <td>0.696676</td>\n",
       "      <td>0.504822</td>\n",
       "      <td>0.202367</td>\n",
       "    </tr>\n",
       "    <tr>\n",
       "      <th>8</th>\n",
       "      <td>MLP</td>\n",
       "      <td>train</td>\n",
       "      <td>0.239319</td>\n",
       "      <td>0.894188</td>\n",
       "      <td>0.946910</td>\n",
       "      <td>0.834715</td>\n",
       "    </tr>\n",
       "    <tr>\n",
       "      <th>9</th>\n",
       "      <td>MLP</td>\n",
       "      <td>test</td>\n",
       "      <td>0.932020</td>\n",
       "      <td>0.719908</td>\n",
       "      <td>0.513683</td>\n",
       "      <td>0.209974</td>\n",
       "    </tr>\n",
       "    <tr>\n",
       "      <th>10</th>\n",
       "      <td>FFNN</td>\n",
       "      <td>train</td>\n",
       "      <td>0.013891</td>\n",
       "      <td>0.996236</td>\n",
       "      <td>0.999344</td>\n",
       "      <td>0.997266</td>\n",
       "    </tr>\n",
       "    <tr>\n",
       "      <th>11</th>\n",
       "      <td>FFNN</td>\n",
       "      <td>test</td>\n",
       "      <td>4.709341</td>\n",
       "      <td>0.710126</td>\n",
       "      <td>0.503718</td>\n",
       "      <td>0.201105</td>\n",
       "    </tr>\n",
       "    <tr>\n",
       "      <th>12</th>\n",
       "      <td>CNN</td>\n",
       "      <td>train</td>\n",
       "      <td>0.078758</td>\n",
       "      <td>0.973862</td>\n",
       "      <td>0.990381</td>\n",
       "      <td>0.939253</td>\n",
       "    </tr>\n",
       "    <tr>\n",
       "      <th>13</th>\n",
       "      <td>CNN</td>\n",
       "      <td>test</td>\n",
       "      <td>2.300590</td>\n",
       "      <td>0.696370</td>\n",
       "      <td>0.494472</td>\n",
       "      <td>0.195806</td>\n",
       "    </tr>\n",
       "    <tr>\n",
       "      <th>14</th>\n",
       "      <td>MLP</td>\n",
       "      <td>train</td>\n",
       "      <td>0.328678</td>\n",
       "      <td>0.827812</td>\n",
       "      <td>0.867984</td>\n",
       "      <td>0.606833</td>\n",
       "    </tr>\n",
       "    <tr>\n",
       "      <th>15</th>\n",
       "      <td>MLP</td>\n",
       "      <td>test</td>\n",
       "      <td>0.945190</td>\n",
       "      <td>0.758884</td>\n",
       "      <td>0.495698</td>\n",
       "      <td>0.198022</td>\n",
       "    </tr>\n",
       "    <tr>\n",
       "      <th>16</th>\n",
       "      <td>FFNN</td>\n",
       "      <td>train</td>\n",
       "      <td>0.042835</td>\n",
       "      <td>0.988116</td>\n",
       "      <td>0.996438</td>\n",
       "      <td>0.991864</td>\n",
       "    </tr>\n",
       "    <tr>\n",
       "      <th>17</th>\n",
       "      <td>FFNN</td>\n",
       "      <td>test</td>\n",
       "      <td>4.191081</td>\n",
       "      <td>0.633244</td>\n",
       "      <td>0.500137</td>\n",
       "      <td>0.200074</td>\n",
       "    </tr>\n",
       "    <tr>\n",
       "      <th>18</th>\n",
       "      <td>CNN</td>\n",
       "      <td>train</td>\n",
       "      <td>0.081621</td>\n",
       "      <td>0.972276</td>\n",
       "      <td>0.989681</td>\n",
       "      <td>0.930914</td>\n",
       "    </tr>\n",
       "    <tr>\n",
       "      <th>19</th>\n",
       "      <td>CNN</td>\n",
       "      <td>test</td>\n",
       "      <td>2.736782</td>\n",
       "      <td>0.719297</td>\n",
       "      <td>0.495112</td>\n",
       "      <td>0.196246</td>\n",
       "    </tr>\n",
       "    <tr>\n",
       "      <th>20</th>\n",
       "      <td>MLP</td>\n",
       "      <td>train</td>\n",
       "      <td>0.420588</td>\n",
       "      <td>0.805763</td>\n",
       "      <td>0.736946</td>\n",
       "      <td>0.391680</td>\n",
       "    </tr>\n",
       "    <tr>\n",
       "      <th>21</th>\n",
       "      <td>MLP</td>\n",
       "      <td>test</td>\n",
       "      <td>0.724656</td>\n",
       "      <td>0.795109</td>\n",
       "      <td>0.504389</td>\n",
       "      <td>0.201298</td>\n",
       "    </tr>\n",
       "    <tr>\n",
       "      <th>22</th>\n",
       "      <td>FFNN</td>\n",
       "      <td>train</td>\n",
       "      <td>0.147848</td>\n",
       "      <td>0.940865</td>\n",
       "      <td>0.978357</td>\n",
       "      <td>0.931079</td>\n",
       "    </tr>\n",
       "    <tr>\n",
       "      <th>23</th>\n",
       "      <td>FFNN</td>\n",
       "      <td>test</td>\n",
       "      <td>2.501177</td>\n",
       "      <td>0.600306</td>\n",
       "      <td>0.499617</td>\n",
       "      <td>0.199217</td>\n",
       "    </tr>\n",
       "    <tr>\n",
       "      <th>24</th>\n",
       "      <td>CNN</td>\n",
       "      <td>train</td>\n",
       "      <td>0.105752</td>\n",
       "      <td>0.962054</td>\n",
       "      <td>0.983095</td>\n",
       "      <td>0.890074</td>\n",
       "    </tr>\n",
       "    <tr>\n",
       "      <th>25</th>\n",
       "      <td>CNN</td>\n",
       "      <td>test</td>\n",
       "      <td>2.810488</td>\n",
       "      <td>0.712954</td>\n",
       "      <td>0.497396</td>\n",
       "      <td>0.198236</td>\n",
       "    </tr>\n",
       "    <tr>\n",
       "      <th>26</th>\n",
       "      <td>MLP</td>\n",
       "      <td>train</td>\n",
       "      <td>0.451409</td>\n",
       "      <td>0.801674</td>\n",
       "      <td>0.676802</td>\n",
       "      <td>0.318740</td>\n",
       "    </tr>\n",
       "    <tr>\n",
       "      <th>27</th>\n",
       "      <td>MLP</td>\n",
       "      <td>test</td>\n",
       "      <td>0.648118</td>\n",
       "      <td>0.798089</td>\n",
       "      <td>0.491545</td>\n",
       "      <td>0.195097</td>\n",
       "    </tr>\n",
       "    <tr>\n",
       "      <th>28</th>\n",
       "      <td>FFNN</td>\n",
       "      <td>train</td>\n",
       "      <td>0.064074</td>\n",
       "      <td>0.982365</td>\n",
       "      <td>0.992851</td>\n",
       "      <td>0.983824</td>\n",
       "    </tr>\n",
       "    <tr>\n",
       "      <th>29</th>\n",
       "      <td>FFNN</td>\n",
       "      <td>test</td>\n",
       "      <td>2.346217</td>\n",
       "      <td>0.609018</td>\n",
       "      <td>0.502677</td>\n",
       "      <td>0.201579</td>\n",
       "    </tr>\n",
       "    <tr>\n",
       "      <th>30</th>\n",
       "      <td>CNN</td>\n",
       "      <td>train</td>\n",
       "      <td>0.135545</td>\n",
       "      <td>0.946654</td>\n",
       "      <td>0.971393</td>\n",
       "      <td>0.815873</td>\n",
       "    </tr>\n",
       "    <tr>\n",
       "      <th>31</th>\n",
       "      <td>CNN</td>\n",
       "      <td>test</td>\n",
       "      <td>2.526744</td>\n",
       "      <td>0.681773</td>\n",
       "      <td>0.503184</td>\n",
       "      <td>0.205970</td>\n",
       "    </tr>\n",
       "    <tr>\n",
       "      <th>32</th>\n",
       "      <td>MLP</td>\n",
       "      <td>train</td>\n",
       "      <td>0.470358</td>\n",
       "      <td>0.801540</td>\n",
       "      <td>0.637515</td>\n",
       "      <td>0.299053</td>\n",
       "    </tr>\n",
       "    <tr>\n",
       "      <th>33</th>\n",
       "      <td>MLP</td>\n",
       "      <td>test</td>\n",
       "      <td>0.586976</td>\n",
       "      <td>0.798624</td>\n",
       "      <td>0.496500</td>\n",
       "      <td>0.199029</td>\n",
       "    </tr>\n",
       "    <tr>\n",
       "      <th>34</th>\n",
       "      <td>FFNN</td>\n",
       "      <td>train</td>\n",
       "      <td>0.127782</td>\n",
       "      <td>0.952501</td>\n",
       "      <td>0.981845</td>\n",
       "      <td>0.949123</td>\n",
       "    </tr>\n",
       "    <tr>\n",
       "      <th>35</th>\n",
       "      <td>FFNN</td>\n",
       "      <td>test</td>\n",
       "      <td>2.003141</td>\n",
       "      <td>0.579595</td>\n",
       "      <td>0.496608</td>\n",
       "      <td>0.198729</td>\n",
       "    </tr>\n",
       "    <tr>\n",
       "      <th>36</th>\n",
       "      <td>CNN</td>\n",
       "      <td>train</td>\n",
       "      <td>0.196649</td>\n",
       "      <td>0.897398</td>\n",
       "      <td>0.956984</td>\n",
       "      <td>0.812443</td>\n",
       "    </tr>\n",
       "    <tr>\n",
       "      <th>37</th>\n",
       "      <td>CNN</td>\n",
       "      <td>test</td>\n",
       "      <td>2.385767</td>\n",
       "      <td>0.660451</td>\n",
       "      <td>0.493347</td>\n",
       "      <td>0.195246</td>\n",
       "    </tr>\n",
       "    <tr>\n",
       "      <th>38</th>\n",
       "      <td>MLP</td>\n",
       "      <td>train</td>\n",
       "      <td>0.464726</td>\n",
       "      <td>0.801024</td>\n",
       "      <td>0.655118</td>\n",
       "      <td>0.312571</td>\n",
       "    </tr>\n",
       "    <tr>\n",
       "      <th>39</th>\n",
       "      <td>MLP</td>\n",
       "      <td>test</td>\n",
       "      <td>0.630312</td>\n",
       "      <td>0.790371</td>\n",
       "      <td>0.488572</td>\n",
       "      <td>0.195817</td>\n",
       "    </tr>\n",
       "    <tr>\n",
       "      <th>40</th>\n",
       "      <td>FFNN</td>\n",
       "      <td>train</td>\n",
       "      <td>0.108350</td>\n",
       "      <td>0.963220</td>\n",
       "      <td>0.986035</td>\n",
       "      <td>0.959676</td>\n",
       "    </tr>\n",
       "    <tr>\n",
       "      <th>41</th>\n",
       "      <td>FFNN</td>\n",
       "      <td>test</td>\n",
       "      <td>1.732865</td>\n",
       "      <td>0.614903</td>\n",
       "      <td>0.489161</td>\n",
       "      <td>0.191766</td>\n",
       "    </tr>\n",
       "    <tr>\n",
       "      <th>42</th>\n",
       "      <td>CNN</td>\n",
       "      <td>train</td>\n",
       "      <td>0.381429</td>\n",
       "      <td>0.800757</td>\n",
       "      <td>0.778579</td>\n",
       "      <td>0.367574</td>\n",
       "    </tr>\n",
       "    <tr>\n",
       "      <th>43</th>\n",
       "      <td>CNN</td>\n",
       "      <td>test</td>\n",
       "      <td>1.012669</td>\n",
       "      <td>0.799236</td>\n",
       "      <td>0.494804</td>\n",
       "      <td>0.197583</td>\n",
       "    </tr>\n",
       "    <tr>\n",
       "      <th>44</th>\n",
       "      <td>MLP</td>\n",
       "      <td>train</td>\n",
       "      <td>0.479112</td>\n",
       "      <td>0.802075</td>\n",
       "      <td>0.612160</td>\n",
       "      <td>0.280772</td>\n",
       "    </tr>\n",
       "    <tr>\n",
       "      <th>45</th>\n",
       "      <td>MLP</td>\n",
       "      <td>test</td>\n",
       "      <td>0.548759</td>\n",
       "      <td>0.798854</td>\n",
       "      <td>0.499036</td>\n",
       "      <td>0.201693</td>\n",
       "    </tr>\n",
       "    <tr>\n",
       "      <th>46</th>\n",
       "      <td>FFNN</td>\n",
       "      <td>train</td>\n",
       "      <td>0.090666</td>\n",
       "      <td>0.969105</td>\n",
       "      <td>0.989259</td>\n",
       "      <td>0.967616</td>\n",
       "    </tr>\n",
       "    <tr>\n",
       "      <th>47</th>\n",
       "      <td>FFNN</td>\n",
       "      <td>test</td>\n",
       "      <td>1.897211</td>\n",
       "      <td>0.628277</td>\n",
       "      <td>0.495160</td>\n",
       "      <td>0.198951</td>\n",
       "    </tr>\n",
       "    <tr>\n",
       "      <th>48</th>\n",
       "      <td>CNN</td>\n",
       "      <td>train</td>\n",
       "      <td>0.202963</td>\n",
       "      <td>0.898735</td>\n",
       "      <td>0.940732</td>\n",
       "      <td>0.684579</td>\n",
       "    </tr>\n",
       "    <tr>\n",
       "      <th>49</th>\n",
       "      <td>CNN</td>\n",
       "      <td>test</td>\n",
       "      <td>2.259652</td>\n",
       "      <td>0.651509</td>\n",
       "      <td>0.495311</td>\n",
       "      <td>0.195523</td>\n",
       "    </tr>\n",
       "    <tr>\n",
       "      <th>50</th>\n",
       "      <td>MLP</td>\n",
       "      <td>train</td>\n",
       "      <td>0.476439</td>\n",
       "      <td>0.800527</td>\n",
       "      <td>0.621522</td>\n",
       "      <td>0.276828</td>\n",
       "    </tr>\n",
       "    <tr>\n",
       "      <th>51</th>\n",
       "      <td>MLP</td>\n",
       "      <td>test</td>\n",
       "      <td>0.581584</td>\n",
       "      <td>0.799465</td>\n",
       "      <td>0.493748</td>\n",
       "      <td>0.197293</td>\n",
       "    </tr>\n",
       "    <tr>\n",
       "      <th>52</th>\n",
       "      <td>FFNN</td>\n",
       "      <td>train</td>\n",
       "      <td>0.082435</td>\n",
       "      <td>0.972506</td>\n",
       "      <td>0.990810</td>\n",
       "      <td>0.973010</td>\n",
       "    </tr>\n",
       "    <tr>\n",
       "      <th>53</th>\n",
       "      <td>FFNN</td>\n",
       "      <td>test</td>\n",
       "      <td>1.705786</td>\n",
       "      <td>0.627054</td>\n",
       "      <td>0.500859</td>\n",
       "      <td>0.199223</td>\n",
       "    </tr>\n",
       "    <tr>\n",
       "      <th>54</th>\n",
       "      <td>CNN</td>\n",
       "      <td>train</td>\n",
       "      <td>0.208848</td>\n",
       "      <td>0.893328</td>\n",
       "      <td>0.936663</td>\n",
       "      <td>0.667987</td>\n",
       "    </tr>\n",
       "    <tr>\n",
       "      <th>55</th>\n",
       "      <td>CNN</td>\n",
       "      <td>test</td>\n",
       "      <td>1.992846</td>\n",
       "      <td>0.639205</td>\n",
       "      <td>0.506312</td>\n",
       "      <td>0.203267</td>\n",
       "    </tr>\n",
       "    <tr>\n",
       "      <th>56</th>\n",
       "      <td>MLP</td>\n",
       "      <td>train</td>\n",
       "      <td>0.480414</td>\n",
       "      <td>0.802285</td>\n",
       "      <td>0.609458</td>\n",
       "      <td>0.281551</td>\n",
       "    </tr>\n",
       "    <tr>\n",
       "      <th>57</th>\n",
       "      <td>MLP</td>\n",
       "      <td>test</td>\n",
       "      <td>0.555849</td>\n",
       "      <td>0.797172</td>\n",
       "      <td>0.503940</td>\n",
       "      <td>0.200143</td>\n",
       "    </tr>\n",
       "    <tr>\n",
       "      <th>58</th>\n",
       "      <td>FFNN</td>\n",
       "      <td>train</td>\n",
       "      <td>0.229961</td>\n",
       "      <td>0.907811</td>\n",
       "      <td>0.944027</td>\n",
       "      <td>0.840192</td>\n",
       "    </tr>\n",
       "    <tr>\n",
       "      <th>59</th>\n",
       "      <td>FFNN</td>\n",
       "      <td>test</td>\n",
       "      <td>1.240705</td>\n",
       "      <td>0.647077</td>\n",
       "      <td>0.499780</td>\n",
       "      <td>0.202131</td>\n",
       "    </tr>\n",
       "  </tbody>\n",
       "</table>\n",
       "</div>"
      ],
      "text/plain": [
       "   model run_type      loss       acc     auroc     auprc\n",
       "0    CNN    train  0.040313  0.986224  0.997802  0.991274\n",
       "1    CNN     test  2.380449  0.732747  0.509853  0.208326\n",
       "2    MLP    train  0.028024  0.999159  0.999963  0.999894\n",
       "3    MLP     test  1.770101  0.693695  0.510414  0.204506\n",
       "4   FFNN    train  0.008040  0.997096  0.999764  0.999313\n",
       "5   FFNN     test  4.901506  0.737333  0.501312  0.201244\n",
       "6    CNN    train  0.090147  0.968340  0.989582  0.942471\n",
       "7    CNN     test  2.052515  0.696676  0.504822  0.202367\n",
       "8    MLP    train  0.239319  0.894188  0.946910  0.834715\n",
       "9    MLP     test  0.932020  0.719908  0.513683  0.209974\n",
       "10  FFNN    train  0.013891  0.996236  0.999344  0.997266\n",
       "11  FFNN     test  4.709341  0.710126  0.503718  0.201105\n",
       "12   CNN    train  0.078758  0.973862  0.990381  0.939253\n",
       "13   CNN     test  2.300590  0.696370  0.494472  0.195806\n",
       "14   MLP    train  0.328678  0.827812  0.867984  0.606833\n",
       "15   MLP     test  0.945190  0.758884  0.495698  0.198022\n",
       "16  FFNN    train  0.042835  0.988116  0.996438  0.991864\n",
       "17  FFNN     test  4.191081  0.633244  0.500137  0.200074\n",
       "18   CNN    train  0.081621  0.972276  0.989681  0.930914\n",
       "19   CNN     test  2.736782  0.719297  0.495112  0.196246\n",
       "20   MLP    train  0.420588  0.805763  0.736946  0.391680\n",
       "21   MLP     test  0.724656  0.795109  0.504389  0.201298\n",
       "22  FFNN    train  0.147848  0.940865  0.978357  0.931079\n",
       "23  FFNN     test  2.501177  0.600306  0.499617  0.199217\n",
       "24   CNN    train  0.105752  0.962054  0.983095  0.890074\n",
       "25   CNN     test  2.810488  0.712954  0.497396  0.198236\n",
       "26   MLP    train  0.451409  0.801674  0.676802  0.318740\n",
       "27   MLP     test  0.648118  0.798089  0.491545  0.195097\n",
       "28  FFNN    train  0.064074  0.982365  0.992851  0.983824\n",
       "29  FFNN     test  2.346217  0.609018  0.502677  0.201579\n",
       "30   CNN    train  0.135545  0.946654  0.971393  0.815873\n",
       "31   CNN     test  2.526744  0.681773  0.503184  0.205970\n",
       "32   MLP    train  0.470358  0.801540  0.637515  0.299053\n",
       "33   MLP     test  0.586976  0.798624  0.496500  0.199029\n",
       "34  FFNN    train  0.127782  0.952501  0.981845  0.949123\n",
       "35  FFNN     test  2.003141  0.579595  0.496608  0.198729\n",
       "36   CNN    train  0.196649  0.897398  0.956984  0.812443\n",
       "37   CNN     test  2.385767  0.660451  0.493347  0.195246\n",
       "38   MLP    train  0.464726  0.801024  0.655118  0.312571\n",
       "39   MLP     test  0.630312  0.790371  0.488572  0.195817\n",
       "40  FFNN    train  0.108350  0.963220  0.986035  0.959676\n",
       "41  FFNN     test  1.732865  0.614903  0.489161  0.191766\n",
       "42   CNN    train  0.381429  0.800757  0.778579  0.367574\n",
       "43   CNN     test  1.012669  0.799236  0.494804  0.197583\n",
       "44   MLP    train  0.479112  0.802075  0.612160  0.280772\n",
       "45   MLP     test  0.548759  0.798854  0.499036  0.201693\n",
       "46  FFNN    train  0.090666  0.969105  0.989259  0.967616\n",
       "47  FFNN     test  1.897211  0.628277  0.495160  0.198951\n",
       "48   CNN    train  0.202963  0.898735  0.940732  0.684579\n",
       "49   CNN     test  2.259652  0.651509  0.495311  0.195523\n",
       "50   MLP    train  0.476439  0.800527  0.621522  0.276828\n",
       "51   MLP     test  0.581584  0.799465  0.493748  0.197293\n",
       "52  FFNN    train  0.082435  0.972506  0.990810  0.973010\n",
       "53  FFNN     test  1.705786  0.627054  0.500859  0.199223\n",
       "54   CNN    train  0.208848  0.893328  0.936663  0.667987\n",
       "55   CNN     test  1.992846  0.639205  0.506312  0.203267\n",
       "56   MLP    train  0.480414  0.802285  0.609458  0.281551\n",
       "57   MLP     test  0.555849  0.797172  0.503940  0.200143\n",
       "58  FFNN    train  0.229961  0.907811  0.944027  0.840192\n",
       "59  FFNN     test  1.240705  0.647077  0.499780  0.202131"
      ]
     },
     "execution_count": 37,
     "metadata": {},
     "output_type": "execute_result"
    }
   ],
   "source": [
    "df\n"
   ]
  },
  {
   "cell_type": "code",
   "execution_count": null,
   "metadata": {},
   "outputs": [],
   "source": []
  }
 ],
 "metadata": {
  "kernelspec": {
   "display_name": "Python 3",
   "language": "python",
   "name": "python3"
  },
  "language_info": {
   "codemirror_mode": {
    "name": "ipython",
    "version": 3
   },
   "file_extension": ".py",
   "mimetype": "text/x-python",
   "name": "python",
   "nbconvert_exporter": "python",
   "pygments_lexer": "ipython3",
   "version": "3.7.6"
  }
 },
 "nbformat": 4,
 "nbformat_minor": 4
}
